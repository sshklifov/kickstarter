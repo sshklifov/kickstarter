{
 "cells": [
  {
   "cell_type": "markdown",
   "metadata": {},
   "source": [
    "## Kickstarter\n",
    "\n",
    "Получаваме датасет с проекти в Kickstarter. Интересуваме се дали проекта ще бъде успешен или не. Какво точно значи \"успешен проект\" предстои да разберем. Първо малко библиотеки."
   ]
  },
  {
   "cell_type": "code",
   "execution_count": 1,
   "metadata": {},
   "outputs": [],
   "source": [
    "from __future__ import print_function\n",
    "from ipywidgets import interact, interactive, fixed, interact_manual\n",
    "import ipywidgets as widgets\n",
    "\n",
    "import numpy as np\n",
    "import matplotlib\n",
    "import matplotlib.pyplot as plt\n",
    "import pandas as pd\n",
    "import seaborn as sns\n",
    "\n",
    "%matplotlib inline\n",
    "\n",
    "import warnings\n",
    "warnings.simplefilter(action='ignore', category=FutureWarning)"
   ]
  },
  {
   "cell_type": "markdown",
   "metadata": {},
   "source": [
    "Обърнете внимание, че филтрираме FutureWarnings. Това са warning от тип \"в тазия версия default параметър е това, но по-късно ще е онова\". Когато е използван default параметър не е важно какъв е. Идеята е да се види как модела ще се справи горе-долу, евентуално после ще се конфигурира.\n",
    "\n",
    "## Данни\n",
    "Прочитаме файла от kaggle. Той има около 200-300 хиляди реда, затова използваме параметър nrows."
   ]
  },
  {
   "cell_type": "code",
   "execution_count": 2,
   "metadata": {},
   "outputs": [
    {
     "data": {
      "text/plain": [
       "(5000, 15)"
      ]
     },
     "execution_count": 2,
     "metadata": {},
     "output_type": "execute_result"
    }
   ],
   "source": [
    "df = pd.read_csv(\"ks-projects-201801.csv\", nrows=5000)\n",
    "df.shape"
   ]
  },
  {
   "cell_type": "code",
   "execution_count": 3,
   "metadata": {},
   "outputs": [
    {
     "data": {
      "text/html": [
       "<div>\n",
       "<style scoped>\n",
       "    .dataframe tbody tr th:only-of-type {\n",
       "        vertical-align: middle;\n",
       "    }\n",
       "\n",
       "    .dataframe tbody tr th {\n",
       "        vertical-align: top;\n",
       "    }\n",
       "\n",
       "    .dataframe thead th {\n",
       "        text-align: right;\n",
       "    }\n",
       "</style>\n",
       "<table border=\"1\" class=\"dataframe\">\n",
       "  <thead>\n",
       "    <tr style=\"text-align: right;\">\n",
       "      <th></th>\n",
       "      <th>ID</th>\n",
       "      <th>name</th>\n",
       "      <th>category</th>\n",
       "      <th>main_category</th>\n",
       "      <th>currency</th>\n",
       "      <th>deadline</th>\n",
       "      <th>goal</th>\n",
       "      <th>launched</th>\n",
       "      <th>pledged</th>\n",
       "      <th>state</th>\n",
       "      <th>backers</th>\n",
       "      <th>country</th>\n",
       "      <th>usd pledged</th>\n",
       "      <th>usd_pledged_real</th>\n",
       "      <th>usd_goal_real</th>\n",
       "    </tr>\n",
       "  </thead>\n",
       "  <tbody>\n",
       "    <tr>\n",
       "      <th>0</th>\n",
       "      <td>1000002330</td>\n",
       "      <td>The Songs of Adelaide &amp; Abullah</td>\n",
       "      <td>Poetry</td>\n",
       "      <td>Publishing</td>\n",
       "      <td>GBP</td>\n",
       "      <td>2015-10-09</td>\n",
       "      <td>1000.0</td>\n",
       "      <td>2015-08-11 12:12:28</td>\n",
       "      <td>0.0</td>\n",
       "      <td>failed</td>\n",
       "      <td>0</td>\n",
       "      <td>GB</td>\n",
       "      <td>0.0</td>\n",
       "      <td>0.0</td>\n",
       "      <td>1533.95</td>\n",
       "    </tr>\n",
       "    <tr>\n",
       "      <th>1</th>\n",
       "      <td>1000003930</td>\n",
       "      <td>Greeting From Earth: ZGAC Arts Capsule For ET</td>\n",
       "      <td>Narrative Film</td>\n",
       "      <td>Film &amp; Video</td>\n",
       "      <td>USD</td>\n",
       "      <td>2017-11-01</td>\n",
       "      <td>30000.0</td>\n",
       "      <td>2017-09-02 04:43:57</td>\n",
       "      <td>2421.0</td>\n",
       "      <td>failed</td>\n",
       "      <td>15</td>\n",
       "      <td>US</td>\n",
       "      <td>100.0</td>\n",
       "      <td>2421.0</td>\n",
       "      <td>30000.00</td>\n",
       "    </tr>\n",
       "    <tr>\n",
       "      <th>2</th>\n",
       "      <td>1000004038</td>\n",
       "      <td>Where is Hank?</td>\n",
       "      <td>Narrative Film</td>\n",
       "      <td>Film &amp; Video</td>\n",
       "      <td>USD</td>\n",
       "      <td>2013-02-26</td>\n",
       "      <td>45000.0</td>\n",
       "      <td>2013-01-12 00:20:50</td>\n",
       "      <td>220.0</td>\n",
       "      <td>failed</td>\n",
       "      <td>3</td>\n",
       "      <td>US</td>\n",
       "      <td>220.0</td>\n",
       "      <td>220.0</td>\n",
       "      <td>45000.00</td>\n",
       "    </tr>\n",
       "    <tr>\n",
       "      <th>3</th>\n",
       "      <td>1000007540</td>\n",
       "      <td>ToshiCapital Rekordz Needs Help to Complete Album</td>\n",
       "      <td>Music</td>\n",
       "      <td>Music</td>\n",
       "      <td>USD</td>\n",
       "      <td>2012-04-16</td>\n",
       "      <td>5000.0</td>\n",
       "      <td>2012-03-17 03:24:11</td>\n",
       "      <td>1.0</td>\n",
       "      <td>failed</td>\n",
       "      <td>1</td>\n",
       "      <td>US</td>\n",
       "      <td>1.0</td>\n",
       "      <td>1.0</td>\n",
       "      <td>5000.00</td>\n",
       "    </tr>\n",
       "    <tr>\n",
       "      <th>4</th>\n",
       "      <td>1000011046</td>\n",
       "      <td>Community Film Project: The Art of Neighborhoo...</td>\n",
       "      <td>Film &amp; Video</td>\n",
       "      <td>Film &amp; Video</td>\n",
       "      <td>USD</td>\n",
       "      <td>2015-08-29</td>\n",
       "      <td>19500.0</td>\n",
       "      <td>2015-07-04 08:35:03</td>\n",
       "      <td>1283.0</td>\n",
       "      <td>canceled</td>\n",
       "      <td>14</td>\n",
       "      <td>US</td>\n",
       "      <td>1283.0</td>\n",
       "      <td>1283.0</td>\n",
       "      <td>19500.00</td>\n",
       "    </tr>\n",
       "  </tbody>\n",
       "</table>\n",
       "</div>"
      ],
      "text/plain": [
       "           ID                                               name  \\\n",
       "0  1000002330                    The Songs of Adelaide & Abullah   \n",
       "1  1000003930      Greeting From Earth: ZGAC Arts Capsule For ET   \n",
       "2  1000004038                                     Where is Hank?   \n",
       "3  1000007540  ToshiCapital Rekordz Needs Help to Complete Album   \n",
       "4  1000011046  Community Film Project: The Art of Neighborhoo...   \n",
       "\n",
       "         category main_category currency    deadline     goal  \\\n",
       "0          Poetry    Publishing      GBP  2015-10-09   1000.0   \n",
       "1  Narrative Film  Film & Video      USD  2017-11-01  30000.0   \n",
       "2  Narrative Film  Film & Video      USD  2013-02-26  45000.0   \n",
       "3           Music         Music      USD  2012-04-16   5000.0   \n",
       "4    Film & Video  Film & Video      USD  2015-08-29  19500.0   \n",
       "\n",
       "              launched  pledged     state  backers country  usd pledged  \\\n",
       "0  2015-08-11 12:12:28      0.0    failed        0      GB          0.0   \n",
       "1  2017-09-02 04:43:57   2421.0    failed       15      US        100.0   \n",
       "2  2013-01-12 00:20:50    220.0    failed        3      US        220.0   \n",
       "3  2012-03-17 03:24:11      1.0    failed        1      US          1.0   \n",
       "4  2015-07-04 08:35:03   1283.0  canceled       14      US       1283.0   \n",
       "\n",
       "   usd_pledged_real  usd_goal_real  \n",
       "0               0.0        1533.95  \n",
       "1            2421.0       30000.00  \n",
       "2             220.0       45000.00  \n",
       "3               1.0        5000.00  \n",
       "4            1283.0       19500.00  "
      ]
     },
     "execution_count": 3,
     "metadata": {},
     "output_type": "execute_result"
    }
   ],
   "source": [
    "df.head (5)"
   ]
  },
  {
   "cell_type": "markdown",
   "metadata": {},
   "source": [
    "Фйчърите не са много разнообразни. Преди да ги разгледаме по-дълбоко, нека да се справим с липсващи данни"
   ]
  },
  {
   "cell_type": "code",
   "execution_count": 4,
   "metadata": {},
   "outputs": [
    {
     "data": {
      "text/plain": [
       "ID                   0\n",
       "name                 0\n",
       "category             0\n",
       "main_category        0\n",
       "currency             0\n",
       "deadline             0\n",
       "goal                 0\n",
       "launched             0\n",
       "pledged              0\n",
       "state                0\n",
       "backers              0\n",
       "country              0\n",
       "usd pledged         53\n",
       "usd_pledged_real     0\n",
       "usd_goal_real        0\n",
       "dtype: int64"
      ]
     },
     "execution_count": 4,
     "metadata": {},
     "output_type": "execute_result"
    }
   ],
   "source": [
    "df.isna().sum(axis=0)"
   ]
  },
  {
   "cell_type": "markdown",
   "metadata": {},
   "source": [
    "За някой проекти нямаме `usd pledged`, въпреки че полетата `pledged` и `usd_pledged_real` са попълнени. Понеже са пренебрежимо малко, ще махнем съответните редове."
   ]
  },
  {
   "cell_type": "code",
   "execution_count": 5,
   "metadata": {},
   "outputs": [
    {
     "data": {
      "text/plain": [
       "(4947, 15)"
      ]
     },
     "execution_count": 5,
     "metadata": {},
     "output_type": "execute_result"
    }
   ],
   "source": [
    "df = df.dropna(axis=0)\n",
    "df.shape"
   ]
  },
  {
   "cell_type": "markdown",
   "metadata": {},
   "source": [
    "По-късно ще логаритмуваме, което значи ще пак ще трябва да махаме данни от data frame-а. Сега е добър момент. Когато приключим ще реиндиксираме data frame-а, така че да няма проблеми на по-късен етап. След като реиндексираме **няма да променяме повече data frame-а**."
   ]
  },
  {
   "cell_type": "code",
   "execution_count": 6,
   "metadata": {},
   "outputs": [
    {
     "name": "stdout",
     "output_type": "stream",
     "text": [
      "projects with no backers: 678\n",
      "0.13705275924802912  of the population\n"
     ]
    }
   ],
   "source": [
    "noBackers = sum (df.backers <= 0)\n",
    "total = df.shape[0]\n",
    "\n",
    "print (\"projects with no backers:\", noBackers)\n",
    "print (noBackers/total, \" of the population\")"
   ]
  },
  {
   "cell_type": "markdown",
   "metadata": {},
   "source": [
    "Това е доста голяма част от популацията. Въпреки това ще я игнорираме, понеже за нея има тривиален модел -- ако никой не е\n",
    "подпрепил проекта, то *най-вероятно* и проекта не е сполучил."
   ]
  },
  {
   "cell_type": "code",
   "execution_count": 7,
   "metadata": {},
   "outputs": [],
   "source": [
    "df = df[df.backers > 0]"
   ]
  },
  {
   "cell_type": "markdown",
   "metadata": {},
   "source": [
    "Нека да направи същото и за `goal`. Много верояно няма проекти с `goal=0`, не пречи да се застраховаме."
   ]
  },
  {
   "cell_type": "code",
   "execution_count": 8,
   "metadata": {},
   "outputs": [
    {
     "name": "stdout",
     "output_type": "stream",
     "text": [
      "projects with no goal: 0\n",
      "0.0  of the population\n"
     ]
    }
   ],
   "source": [
    "noGoal = sum ((df.goal <= 0) | (df.usd_goal_real<=0))\n",
    "total = df.shape[0]\n",
    "\n",
    "print (\"projects with no goal:\", noGoal)\n",
    "print (noGoal/total, \" of the population\")"
   ]
  },
  {
   "cell_type": "markdown",
   "metadata": {},
   "source": [
    "Сега `pledged`. Тъй като филтрираме всички проекти, които никой не ги е подкрепил, най-верояно и тук няма да\n",
    "намерим нищо за филтриране."
   ]
  },
  {
   "cell_type": "code",
   "execution_count": 9,
   "metadata": {},
   "outputs": [
    {
     "name": "stdout",
     "output_type": "stream",
     "text": [
      "projects with nothing pledged: 0\n",
      "0.0  of the population\n"
     ]
    }
   ],
   "source": [
    "noPledged = sum ((df.pledged <= 0) | (df.usd_pledged_real<=0))\n",
    "total = df.shape[0]\n",
    "\n",
    "print (\"projects with nothing pledged:\", noPledged)\n",
    "print (noPledged/total, \" of the population\")"
   ]
  },
  {
   "cell_type": "markdown",
   "metadata": {},
   "source": [
    "## Какво значи проект да е успешен?\n",
    "\n",
    "Да видим какво представлява състояние на проект:"
   ]
  },
  {
   "cell_type": "code",
   "execution_count": 10,
   "metadata": {},
   "outputs": [
    {
     "data": {
      "image/png": "[encoded data removed]",
      "text/plain": [
       "<Figure size 576x576 with 1 Axes>"
      ]
     },
     "metadata": {},
     "output_type": "display_data"
    }
   ],
   "source": [
    "df.state.value_counts().plot(kind=\"pie\", figsize = (8, 8));"
   ]
  },
  {
   "cell_type": "markdown",
   "metadata": {},
   "source": [
    "`suspended` и `live` все още не са приключили и съответно не ни помагат в самообучението."
   ]
  },
  {
   "cell_type": "code",
   "execution_count": 11,
   "metadata": {},
   "outputs": [],
   "source": [
    "df = df[(df.state!=\"suspended\") & (df.state!=\"live\")]\n",
    "successful = df.state==\"successful\"\n",
    "successful.rename (\"successful\")\n",
    "df.drop (columns=[\"state\"], inplace=True)\n",
    "df['successful'] = successful"
   ]
  },
  {
   "cell_type": "markdown",
   "metadata": {},
   "source": [
    "Готово. Преиндексираме и повече не махаме данни. Изглежда сякаш сме махнали доста данни, но всъщност мажоритета от тях са проекти, за който не е помогнал. Имаме и много тривиален модел - ако никой не е дарил, значи проекта не е успял. Този модел ще е разбира се с лоша точност: ~10%."
   ]
  },
  {
   "cell_type": "code",
   "execution_count": 12,
   "metadata": {},
   "outputs": [
    {
     "name": "stdout",
     "output_type": "stream",
     "text": [
      "New shape (4227, 15)\n"
     ]
    },
    {
     "data": {
      "text/html": [
       "<div>\n",
       "<style scoped>\n",
       "    .dataframe tbody tr th:only-of-type {\n",
       "        vertical-align: middle;\n",
       "    }\n",
       "\n",
       "    .dataframe tbody tr th {\n",
       "        vertical-align: top;\n",
       "    }\n",
       "\n",
       "    .dataframe thead th {\n",
       "        text-align: right;\n",
       "    }\n",
       "</style>\n",
       "<table border=\"1\" class=\"dataframe\">\n",
       "  <thead>\n",
       "    <tr style=\"text-align: right;\">\n",
       "      <th></th>\n",
       "      <th>ID</th>\n",
       "      <th>name</th>\n",
       "      <th>category</th>\n",
       "      <th>main_category</th>\n",
       "      <th>currency</th>\n",
       "      <th>deadline</th>\n",
       "      <th>goal</th>\n",
       "      <th>launched</th>\n",
       "      <th>pledged</th>\n",
       "      <th>backers</th>\n",
       "      <th>country</th>\n",
       "      <th>usd pledged</th>\n",
       "      <th>usd_pledged_real</th>\n",
       "      <th>usd_goal_real</th>\n",
       "      <th>successful</th>\n",
       "    </tr>\n",
       "  </thead>\n",
       "  <tbody>\n",
       "    <tr>\n",
       "      <th>0</th>\n",
       "      <td>1000003930</td>\n",
       "      <td>Greeting From Earth: ZGAC Arts Capsule For ET</td>\n",
       "      <td>Narrative Film</td>\n",
       "      <td>Film &amp; Video</td>\n",
       "      <td>USD</td>\n",
       "      <td>2017-11-01</td>\n",
       "      <td>30000.0</td>\n",
       "      <td>2017-09-02 04:43:57</td>\n",
       "      <td>2421.0</td>\n",
       "      <td>15</td>\n",
       "      <td>US</td>\n",
       "      <td>100.0</td>\n",
       "      <td>2421.0</td>\n",
       "      <td>30000.0</td>\n",
       "      <td>False</td>\n",
       "    </tr>\n",
       "    <tr>\n",
       "      <th>1</th>\n",
       "      <td>1000004038</td>\n",
       "      <td>Where is Hank?</td>\n",
       "      <td>Narrative Film</td>\n",
       "      <td>Film &amp; Video</td>\n",
       "      <td>USD</td>\n",
       "      <td>2013-02-26</td>\n",
       "      <td>45000.0</td>\n",
       "      <td>2013-01-12 00:20:50</td>\n",
       "      <td>220.0</td>\n",
       "      <td>3</td>\n",
       "      <td>US</td>\n",
       "      <td>220.0</td>\n",
       "      <td>220.0</td>\n",
       "      <td>45000.0</td>\n",
       "      <td>False</td>\n",
       "    </tr>\n",
       "    <tr>\n",
       "      <th>2</th>\n",
       "      <td>1000007540</td>\n",
       "      <td>ToshiCapital Rekordz Needs Help to Complete Album</td>\n",
       "      <td>Music</td>\n",
       "      <td>Music</td>\n",
       "      <td>USD</td>\n",
       "      <td>2012-04-16</td>\n",
       "      <td>5000.0</td>\n",
       "      <td>2012-03-17 03:24:11</td>\n",
       "      <td>1.0</td>\n",
       "      <td>1</td>\n",
       "      <td>US</td>\n",
       "      <td>1.0</td>\n",
       "      <td>1.0</td>\n",
       "      <td>5000.0</td>\n",
       "      <td>False</td>\n",
       "    </tr>\n",
       "    <tr>\n",
       "      <th>3</th>\n",
       "      <td>1000011046</td>\n",
       "      <td>Community Film Project: The Art of Neighborhoo...</td>\n",
       "      <td>Film &amp; Video</td>\n",
       "      <td>Film &amp; Video</td>\n",
       "      <td>USD</td>\n",
       "      <td>2015-08-29</td>\n",
       "      <td>19500.0</td>\n",
       "      <td>2015-07-04 08:35:03</td>\n",
       "      <td>1283.0</td>\n",
       "      <td>14</td>\n",
       "      <td>US</td>\n",
       "      <td>1283.0</td>\n",
       "      <td>1283.0</td>\n",
       "      <td>19500.0</td>\n",
       "      <td>False</td>\n",
       "    </tr>\n",
       "    <tr>\n",
       "      <th>4</th>\n",
       "      <td>1000014025</td>\n",
       "      <td>Monarch Espresso Bar</td>\n",
       "      <td>Restaurants</td>\n",
       "      <td>Food</td>\n",
       "      <td>USD</td>\n",
       "      <td>2016-04-01</td>\n",
       "      <td>50000.0</td>\n",
       "      <td>2016-02-26 13:38:27</td>\n",
       "      <td>52375.0</td>\n",
       "      <td>224</td>\n",
       "      <td>US</td>\n",
       "      <td>52375.0</td>\n",
       "      <td>52375.0</td>\n",
       "      <td>50000.0</td>\n",
       "      <td>True</td>\n",
       "    </tr>\n",
       "  </tbody>\n",
       "</table>\n",
       "</div>"
      ],
      "text/plain": [
       "           ID                                               name  \\\n",
       "0  1000003930      Greeting From Earth: ZGAC Arts Capsule For ET   \n",
       "1  1000004038                                     Where is Hank?   \n",
       "2  1000007540  ToshiCapital Rekordz Needs Help to Complete Album   \n",
       "3  1000011046  Community Film Project: The Art of Neighborhoo...   \n",
       "4  1000014025                               Monarch Espresso Bar   \n",
       "\n",
       "         category main_category currency    deadline     goal  \\\n",
       "0  Narrative Film  Film & Video      USD  2017-11-01  30000.0   \n",
       "1  Narrative Film  Film & Video      USD  2013-02-26  45000.0   \n",
       "2           Music         Music      USD  2012-04-16   5000.0   \n",
       "3    Film & Video  Film & Video      USD  2015-08-29  19500.0   \n",
       "4     Restaurants          Food      USD  2016-04-01  50000.0   \n",
       "\n",
       "              launched  pledged  backers country  usd pledged  \\\n",
       "0  2017-09-02 04:43:57   2421.0       15      US        100.0   \n",
       "1  2013-01-12 00:20:50    220.0        3      US        220.0   \n",
       "2  2012-03-17 03:24:11      1.0        1      US          1.0   \n",
       "3  2015-07-04 08:35:03   1283.0       14      US       1283.0   \n",
       "4  2016-02-26 13:38:27  52375.0      224      US      52375.0   \n",
       "\n",
       "   usd_pledged_real  usd_goal_real  successful  \n",
       "0            2421.0        30000.0       False  \n",
       "1             220.0        45000.0       False  \n",
       "2               1.0         5000.0       False  \n",
       "3            1283.0        19500.0       False  \n",
       "4           52375.0        50000.0        True  "
      ]
     },
     "execution_count": 12,
     "metadata": {},
     "output_type": "execute_result"
    }
   ],
   "source": [
    "df.index = range (0, df.shape[0])\n",
    "successful.index = range (0, successful.size)\n",
    "\n",
    "print (\"New shape\", df.shape)\n",
    "df.head(5)"
   ]
  },
  {
   "cell_type": "markdown",
   "metadata": {},
   "source": [
    "## Data exploration\n",
    "\n",
    "#### Category\n",
    "\n",
    "Виждаме, че има категории и \"главни категории\". Да видим колко наброй са категориите"
   ]
  },
  {
   "cell_type": "code",
   "execution_count": 13,
   "metadata": {},
   "outputs": [
    {
     "name": "stdout",
     "output_type": "stream",
     "text": [
      "Unique categories: 152\n"
     ]
    }
   ],
   "source": [
    "unique_categories = df.category.value_counts().size\n",
    "print (\"Unique categories:\", unique_categories)"
   ]
  },
  {
   "cell_type": "markdown",
   "metadata": {},
   "source": [
    "Ще е трудно да ги plot-нем всичките. Вместо това нека видим 10 най-популярни"
   ]
  },
  {
   "cell_type": "code",
   "execution_count": 14,
   "metadata": {},
   "outputs": [
    {
     "data": {
      "image/png": "[encoded data removed]",
      "text/plain": [
       "<Figure size 432x288 with 1 Axes>"
      ]
     },
     "metadata": {
      "needs_background": "light"
     },
     "output_type": "display_data"
    }
   ],
   "source": [
    "df.category.value_counts()[0:10].plot(kind=\"bar\", title=\"top 10 categories\");"
   ]
  },
  {
   "cell_type": "markdown",
   "metadata": {},
   "source": [
    "Главните категории са по-малко и директно може да ги plot-нем"
   ]
  },
  {
   "cell_type": "code",
   "execution_count": 15,
   "metadata": {},
   "outputs": [
    {
     "data": {
      "image/png": "[encoded data removed]",
      "text/plain": [
       "<Figure size 432x288 with 1 Axes>"
      ]
     },
     "metadata": {
      "needs_background": "light"
     },
     "output_type": "display_data"
    }
   ],
   "source": [
    "df.main_category.value_counts().plot(kind=\"bar\", title=\"top categories (aggregated)\");"
   ]
  },
  {
   "cell_type": "markdown",
   "metadata": {},
   "source": [
    "Определено някой категории са по-чести от други. Забелязваме също, че има дублиране в `main_category` и `category`. После ще видим и вероятностите за успех.\n",
    "\n",
    "#### Country"
   ]
  },
  {
   "cell_type": "code",
   "execution_count": 16,
   "metadata": {},
   "outputs": [
    {
     "data": {
      "text/plain": [
       "US    3273\n",
       "GB     419\n",
       "CA     177\n",
       "AU      76\n",
       "DE      47\n",
       "IT      37\n",
       "NL      36\n",
       "FR      26\n",
       "ES      23\n",
       "MX      19\n",
       "SE      18\n",
       "NZ      12\n",
       "IE      12\n",
       "HK       9\n",
       "BE       9\n",
       "CH       8\n",
       "DK       8\n",
       "NO       7\n",
       "AT       6\n",
       "SG       4\n",
       "LU       1\n",
       "Name: country, dtype: int64"
      ]
     },
     "execution_count": 16,
     "metadata": {},
     "output_type": "execute_result"
    }
   ],
   "source": [
    "df.country.value_counts()"
   ]
  },
  {
   "cell_type": "markdown",
   "metadata": {},
   "source": [
    "Пак ще се наложи да покажем най-поулярните"
   ]
  },
  {
   "cell_type": "code",
   "execution_count": 17,
   "metadata": {},
   "outputs": [
    {
     "data": {
      "image/png": "[encoded data removed]",
      "text/plain": [
       "<Figure size 576x576 with 1 Axes>"
      ]
     },
     "metadata": {},
     "output_type": "display_data"
    }
   ],
   "source": [
    "countryIndex = df.country.value_counts()[0:6].index\n",
    "topCountry = df.country.apply (lambda x: x if countryIndex.contains (x) else \"OTHER\")\n",
    "topCountry.rename (\"country\")\n",
    "topCountry.value_counts().plot(kind=\"pie\", figsize=(8, 8));"
   ]
  },
  {
   "cell_type": "markdown",
   "metadata": {},
   "source": [
    "Ясно се вижда, че проектите в щатите доминират. На второ място идва Великобритания, след това Канада, Австралия и от там са горе-долу равностойно малцинство\n",
    "\n",
    "#### Goal\n",
    "\n",
    "`goal` е един от малкото числени feature-и. Всички те са с heavy tail дистрибуция и ще трябва да се постараем с plot-ването. За целта ще махнем част от опашката, като игнорираме 10% от най-голямите данни. Ще покажем и логаритмична трансформация."
   ]
  },
  {
   "cell_type": "code",
   "execution_count": 18,
   "metadata": {},
   "outputs": [
    {
     "data": {
      "text/plain": [
       "count    4.227000e+03\n",
       "mean     3.725927e+04\n",
       "std      6.674762e+05\n",
       "min      1.000000e+00\n",
       "25%      2.000000e+03\n",
       "50%      5.000000e+03\n",
       "75%      1.600000e+04\n",
       "max      4.000000e+07\n",
       "Name: goal, dtype: float64"
      ]
     },
     "execution_count": 18,
     "metadata": {},
     "output_type": "execute_result"
    }
   ],
   "source": [
    "df.goal.describe()"
   ]
  },
  {
   "cell_type": "code",
   "execution_count": 19,
   "metadata": {},
   "outputs": [
    {
     "data": {
      "image/png": "[encoded data removed]",
      "text/plain": [
       "<Figure size 720x360 with 2 Axes>"
      ]
     },
     "metadata": {
      "needs_background": "light"
     },
     "output_type": "display_data"
    }
   ],
   "source": [
    "fig = plt.figure (figsize= (10, 5))\n",
    "ax1 = fig.add_subplot (1, 2, 1)\n",
    "ax2 = fig.add_subplot (1, 2, 2)\n",
    "\n",
    "q = df.goal.quantile (0.9)\n",
    "df.goal[df.goal < q].plot(kind=\"hist\", title = \"goal (trimmed)\", ax=ax1);\n",
    "\n",
    "np.log10(df.goal).plot(kind=\"hist\", title = \"goal (log transformed)\", ax=ax2);\n"
   ]
  },
  {
   "cell_type": "markdown",
   "metadata": {},
   "source": [
    "#### Pledged\n",
    "\n",
    "Аналогично на `goal`. И заключенията са същите - heavy tail дистрибуция, но след log transform дистрибуцията наподобява нормална."
   ]
  },
  {
   "cell_type": "code",
   "execution_count": 20,
   "metadata": {},
   "outputs": [
    {
     "data": {
      "image/png": "[encoded data removed]",
      "text/plain": [
       "<Figure size 720x360 with 2 Axes>"
      ]
     },
     "metadata": {
      "needs_background": "light"
     },
     "output_type": "display_data"
    }
   ],
   "source": [
    "fig = plt.figure (figsize = (10, 5))\n",
    "ax1 = fig.add_subplot (1, 2, 1)\n",
    "ax2 = fig.add_subplot (1, 2, 2)\n",
    "\n",
    "q = df.pledged.quantile (0.9)\n",
    "df.pledged[df.pledged < q].plot(kind=\"hist\", title = \"pledged (trimmed)\", ax=ax1);\n",
    "\n",
    "np.log10(df.pledged).plot(kind=\"hist\", title = \"pledged (log transformed)\", ax=ax2);"
   ]
  },
  {
   "cell_type": "markdown",
   "metadata": {},
   "source": [
    "#### successful\n",
    "\n",
    "От pie chart-а в началото видяхме, че вероятността за успех не е много голяма. Нека повторим процедурата, понеже трихме и промяхме feature-и."
   ]
  },
  {
   "cell_type": "code",
   "execution_count": 21,
   "metadata": {},
   "outputs": [
    {
     "data": {
      "image/png": "[encoded data removed]",
      "text/plain": [
       "<Figure size 432x288 with 1 Axes>"
      ]
     },
     "metadata": {
      "needs_background": "light"
     },
     "output_type": "display_data"
    }
   ],
   "source": [
    "(df.successful.value_counts() / df.successful.size).plot(kind=\"bar\", title=\"successful\");"
   ]
  },
  {
   "cell_type": "markdown",
   "metadata": {},
   "source": [
    "По-вероятно е проект да не е успешен. Трябва да внимаваме, когато правим train-test-split и също така, когато валидираме.\n",
    "\n",
    "#### launch & deadline\n",
    "\n",
    "Малко кофти за работа. Ще трябва да използваме библиотека `time`, за да се справим с тях. Нека да направим нов feature -- колко време продължава проект. Интуитивно, колкото повече, толково повече пари би събрал. Но пък след известно време хората спират да даряват и ако не е успял проекта в първите x дена, то вероятно и след година няма да успее. Освен това ако е с малък срок, хората би били по-мотивирани да дарят. Нека видим какво казват данните."
   ]
  },
  {
   "cell_type": "code",
   "execution_count": 22,
   "metadata": {},
   "outputs": [],
   "source": [
    "import time\n",
    "\n",
    "def toSeconds (str):\n",
    "    year = int(str[0:4])\n",
    "    month = int(str[5:7])\n",
    "    day = int(str[8:10])\n",
    "    t = (year, month, day, 0, 0, 0, -1, -1, -1)\n",
    "    return time.mktime (t)\n",
    "\n",
    "duration = df.deadline.apply (toSeconds) - df.launched.apply(toSeconds)\n",
    "duration = duration.apply (lambda x: x / 60 / 60 / 24)\n",
    "duration = duration.rename (\"duration\")"
   ]
  },
  {
   "cell_type": "markdown",
   "metadata": {},
   "source": [
    "Проверка дали не оплескахме нещо"
   ]
  },
  {
   "cell_type": "code",
   "execution_count": 23,
   "metadata": {},
   "outputs": [
    {
     "data": {
      "text/html": [
       "<div>\n",
       "<style scoped>\n",
       "    .dataframe tbody tr th:only-of-type {\n",
       "        vertical-align: middle;\n",
       "    }\n",
       "\n",
       "    .dataframe tbody tr th {\n",
       "        vertical-align: top;\n",
       "    }\n",
       "\n",
       "    .dataframe thead th {\n",
       "        text-align: right;\n",
       "    }\n",
       "</style>\n",
       "<table border=\"1\" class=\"dataframe\">\n",
       "  <thead>\n",
       "    <tr style=\"text-align: right;\">\n",
       "      <th></th>\n",
       "      <th>launched</th>\n",
       "      <th>deadline</th>\n",
       "      <th>duration</th>\n",
       "    </tr>\n",
       "  </thead>\n",
       "  <tbody>\n",
       "    <tr>\n",
       "      <th>0</th>\n",
       "      <td>2017-09-02 04:43:57</td>\n",
       "      <td>2017-11-01</td>\n",
       "      <td>60.0417</td>\n",
       "    </tr>\n",
       "    <tr>\n",
       "      <th>1</th>\n",
       "      <td>2013-01-12 00:20:50</td>\n",
       "      <td>2013-02-26</td>\n",
       "      <td>45</td>\n",
       "    </tr>\n",
       "    <tr>\n",
       "      <th>2</th>\n",
       "      <td>2012-03-17 03:24:11</td>\n",
       "      <td>2012-04-16</td>\n",
       "      <td>29.9583</td>\n",
       "    </tr>\n",
       "    <tr>\n",
       "      <th>3</th>\n",
       "      <td>2015-07-04 08:35:03</td>\n",
       "      <td>2015-08-29</td>\n",
       "      <td>56</td>\n",
       "    </tr>\n",
       "    <tr>\n",
       "      <th>4</th>\n",
       "      <td>2016-02-26 13:38:27</td>\n",
       "      <td>2016-04-01</td>\n",
       "      <td>34.9583</td>\n",
       "    </tr>\n",
       "  </tbody>\n",
       "</table>\n",
       "</div>"
      ],
      "text/plain": [
       "              launched    deadline duration\n",
       "0  2017-09-02 04:43:57  2017-11-01  60.0417\n",
       "1  2013-01-12 00:20:50  2013-02-26       45\n",
       "2  2012-03-17 03:24:11  2012-04-16  29.9583\n",
       "3  2015-07-04 08:35:03  2015-08-29       56\n",
       "4  2016-02-26 13:38:27  2016-04-01  34.9583"
      ]
     },
     "execution_count": 23,
     "metadata": {},
     "output_type": "execute_result"
    }
   ],
   "source": [
    "pd.DataFrame ([df.launched, df.deadline, duration]).transpose().head(5)"
   ]
  },
  {
   "cell_type": "code",
   "execution_count": 24,
   "metadata": {},
   "outputs": [
    {
     "data": {
      "image/png": "[encoded data removed]",
      "text/plain": [
       "<Figure size 432x288 with 1 Axes>"
      ]
     },
     "metadata": {
      "needs_background": "light"
     },
     "output_type": "display_data"
    }
   ],
   "source": [
    "duration.plot(kind=\"hist\");"
   ]
  },
  {
   "cell_type": "markdown",
   "metadata": {},
   "source": [
    "Интересно. Разпределението изглежда горе-долу нормално с очакване 30 дни (един месец).\n",
    "\n",
    "Да видим дали можем да направим някой друг feature engineering. Колко проекта има през годините? Има ли значение в кой ден от седмицата са стартирани? Ами месец в годината? Засега ще покажем само как Kickstarter\n",
    "набира популярност през годините, а останалите feature-и по-късно ще разгледаме, така че да има някакъв ред."
   ]
  },
  {
   "cell_type": "code",
   "execution_count": 25,
   "metadata": {},
   "outputs": [
    {
     "name": "stdout",
     "output_type": "stream",
     "text": [
      "earliest launch: 2009-06-08 09:22:38\n",
      "latest launch: 2017-12-19 07:32:41\n"
     ]
    }
   ],
   "source": [
    "print (\"earliest launch:\", df.launched.min())\n",
    "print (\"latest launch:\", df.launched.max())"
   ]
  },
  {
   "cell_type": "code",
   "execution_count": 26,
   "metadata": {},
   "outputs": [
    {
     "data": {
      "image/png": "[encoded data removed]",
      "text/plain": [
       "<Figure size 576x576 with 1 Axes>"
      ]
     },
     "metadata": {
      "needs_background": "light"
     },
     "output_type": "display_data"
    }
   ],
   "source": [
    "def toWeekday (x):\n",
    "    secs = toSeconds (x)\n",
    "    tm = time.gmtime(secs)\n",
    "    return time.strftime (\"%a\", tm)\n",
    "\n",
    "weekday = df.launched.apply (toWeekday)\n",
    "weekday.rename (\"weekday\")\n",
    "\n",
    "day = df.launched.apply (lambda x: int(x[8:10]))\n",
    "day = day.rename (\"day\")\n",
    "\n",
    "month = df.launched.apply (lambda x: int(x[5:7]))\n",
    "month = month.rename (\"month\")\n",
    "\n",
    "year = df.launched.apply (lambda x: int(x[0:4]))\n",
    "year = year.rename (\"year\")\n",
    "\n",
    "year.value_counts().sort_index().plot(kind=\"bar\", figsize = (8, 8), title=\"launches by year\");"
   ]
  },
  {
   "cell_type": "markdown",
   "metadata": {},
   "source": [
    "До 2014 популярността е растяла, като през 2014 виждаме голям скок. След това леко е почнала да спада. Това е важно. Колкото повече проекти, толкова повече конкурениция. Но зависимостта може да е наобратно, понеже \"много проекти\" => \"популярност на самата платформа\" => \"повече потенциални дарители\"\n",
    "\n",
    "#### currency\n",
    "\n",
    "Този feature леко наподобява `country`. Човек би очаквал проект в щатите да е в щатски долари. Би било странно, ако не е."
   ]
  },
  {
   "cell_type": "code",
   "execution_count": 27,
   "metadata": {},
   "outputs": [
    {
     "data": {
      "text/plain": [
       "USD    3273\n",
       "GBP     419\n",
       "EUR     197\n",
       "CAD     177\n",
       "AUD      76\n",
       "MXN      19\n",
       "SEK      18\n",
       "NZD      12\n",
       "HKD       9\n",
       "DKK       8\n",
       "CHF       8\n",
       "NOK       7\n",
       "SGD       4\n",
       "Name: currency, dtype: int64"
      ]
     },
     "execution_count": 27,
     "metadata": {},
     "output_type": "execute_result"
    }
   ],
   "source": [
    "df.currency.value_counts()"
   ]
  },
  {
   "cell_type": "code",
   "execution_count": 28,
   "metadata": {},
   "outputs": [
    {
     "data": {
      "text/plain": [
       "US    3273\n",
       "GB     419\n",
       "CA     177\n",
       "AU      76\n",
       "DE      47\n",
       "IT      37\n",
       "NL      36\n",
       "FR      26\n",
       "ES      23\n",
       "MX      19\n",
       "SE      18\n",
       "NZ      12\n",
       "IE      12\n",
       "HK       9\n",
       "BE       9\n",
       "CH       8\n",
       "DK       8\n",
       "NO       7\n",
       "AT       6\n",
       "SG       4\n",
       "LU       1\n",
       "Name: country, dtype: int64"
      ]
     },
     "execution_count": 28,
     "metadata": {},
     "output_type": "execute_result"
    }
   ],
   "source": [
    "df.country.value_counts()"
   ]
  },
  {
   "cell_type": "markdown",
   "metadata": {},
   "source": [
    "Определено има зависимост. Вече когато стигнем до по-малко популярните страни виждаме, че валутите се разпръсват. Това ни казва, че\n",
    "може да drop-нем каква валута използват проектите. Тя почти еднозначно се определя от страната.\n",
    "\n",
    "#### backers\n",
    "Още един числен feature. Подлагаме го на стандартната процедура."
   ]
  },
  {
   "cell_type": "code",
   "execution_count": 29,
   "metadata": {},
   "outputs": [
    {
     "data": {
      "image/png": "[encoded data removed]",
      "text/plain": [
       "<Figure size 720x360 with 2 Axes>"
      ]
     },
     "metadata": {
      "needs_background": "light"
     },
     "output_type": "display_data"
    }
   ],
   "source": [
    "fig = plt.figure (figsize = (10, 5))\n",
    "ax1 = fig.add_subplot (1, 2, 1)\n",
    "ax2 = fig.add_subplot (1, 2, 2)\n",
    "\n",
    "q = df.backers.quantile (0.9)\n",
    "df.backers[df.backers < q].plot(kind=\"hist\", title = \"backers (trimmed)\", ax=ax1);\n",
    "\n",
    "np.log10(df.backers).plot(kind=\"hist\", bins=20, title = \"backers (log transformed)\", ax=ax2);"
   ]
  },
  {
   "cell_type": "markdown",
   "metadata": {},
   "source": [
    "Тук разпределението е подобно като другите целочислени feature-и с аномалия между 0 и 10. Виждаме подобна тенденция като проектите, които никой не е подкрепил. Да разследваме."
   ]
  },
  {
   "cell_type": "code",
   "execution_count": 30,
   "metadata": {},
   "outputs": [
    {
     "name": "stdout",
     "output_type": "stream",
     "text": [
      "Projects with less than 10 backers: 0.38963804116394607\n"
     ]
    },
    {
     "data": {
      "image/png": "[encoded data removed]",
      "text/plain": [
       "<Figure size 432x288 with 1 Axes>"
      ]
     },
     "metadata": {
      "needs_background": "light"
     },
     "output_type": "display_data"
    }
   ],
   "source": [
    "bv = df.backers <= 10\n",
    "print (\"Projects with less than 10 backers:\", sum(bv)/df.backers.size)\n",
    "\n",
    "threshold = 10000\n",
    "sns.boxplot (x=\"successful\", y=\"usd_goal_real\", data=df[bv & (df.usd_goal_real<threshold)]);"
   ]
  },
  {
   "cell_type": "code",
   "execution_count": 31,
   "metadata": {},
   "outputs": [
    {
     "data": {
      "text/html": [
       "<div>\n",
       "<style scoped>\n",
       "    .dataframe tbody tr th:only-of-type {\n",
       "        vertical-align: middle;\n",
       "    }\n",
       "\n",
       "    .dataframe tbody tr th {\n",
       "        vertical-align: top;\n",
       "    }\n",
       "\n",
       "    .dataframe thead th {\n",
       "        text-align: right;\n",
       "    }\n",
       "</style>\n",
       "<table border=\"1\" class=\"dataframe\">\n",
       "  <thead>\n",
       "    <tr style=\"text-align: right;\">\n",
       "      <th></th>\n",
       "      <th>ID</th>\n",
       "      <th>name</th>\n",
       "      <th>category</th>\n",
       "      <th>main_category</th>\n",
       "      <th>currency</th>\n",
       "      <th>deadline</th>\n",
       "      <th>goal</th>\n",
       "      <th>launched</th>\n",
       "      <th>pledged</th>\n",
       "      <th>backers</th>\n",
       "      <th>country</th>\n",
       "      <th>usd pledged</th>\n",
       "      <th>usd_pledged_real</th>\n",
       "      <th>usd_goal_real</th>\n",
       "      <th>successful</th>\n",
       "    </tr>\n",
       "  </thead>\n",
       "  <tbody>\n",
       "    <tr>\n",
       "      <th>1</th>\n",
       "      <td>1000004038</td>\n",
       "      <td>Where is Hank?</td>\n",
       "      <td>Narrative Film</td>\n",
       "      <td>Film &amp; Video</td>\n",
       "      <td>USD</td>\n",
       "      <td>2013-02-26</td>\n",
       "      <td>45000.0</td>\n",
       "      <td>2013-01-12 00:20:50</td>\n",
       "      <td>220.0</td>\n",
       "      <td>3</td>\n",
       "      <td>US</td>\n",
       "      <td>220.00</td>\n",
       "      <td>220.00</td>\n",
       "      <td>45000.00</td>\n",
       "      <td>False</td>\n",
       "    </tr>\n",
       "    <tr>\n",
       "      <th>2</th>\n",
       "      <td>1000007540</td>\n",
       "      <td>ToshiCapital Rekordz Needs Help to Complete Album</td>\n",
       "      <td>Music</td>\n",
       "      <td>Music</td>\n",
       "      <td>USD</td>\n",
       "      <td>2012-04-16</td>\n",
       "      <td>5000.0</td>\n",
       "      <td>2012-03-17 03:24:11</td>\n",
       "      <td>1.0</td>\n",
       "      <td>1</td>\n",
       "      <td>US</td>\n",
       "      <td>1.00</td>\n",
       "      <td>1.00</td>\n",
       "      <td>5000.00</td>\n",
       "      <td>False</td>\n",
       "    </tr>\n",
       "    <tr>\n",
       "      <th>14</th>\n",
       "      <td>1000070642</td>\n",
       "      <td>Mike Corey's Darkness &amp; Light Album</td>\n",
       "      <td>Music</td>\n",
       "      <td>Music</td>\n",
       "      <td>USD</td>\n",
       "      <td>2012-08-17</td>\n",
       "      <td>250.0</td>\n",
       "      <td>2012-08-02 14:11:32</td>\n",
       "      <td>250.0</td>\n",
       "      <td>7</td>\n",
       "      <td>US</td>\n",
       "      <td>250.00</td>\n",
       "      <td>250.00</td>\n",
       "      <td>250.00</td>\n",
       "      <td>True</td>\n",
       "    </tr>\n",
       "    <tr>\n",
       "      <th>17</th>\n",
       "      <td>1000081649</td>\n",
       "      <td>MikeyJ clothing brand fundraiser</td>\n",
       "      <td>Childrenswear</td>\n",
       "      <td>Fashion</td>\n",
       "      <td>AUD</td>\n",
       "      <td>2017-09-07</td>\n",
       "      <td>2500.0</td>\n",
       "      <td>2017-08-08 01:20:20</td>\n",
       "      <td>1.0</td>\n",
       "      <td>1</td>\n",
       "      <td>AU</td>\n",
       "      <td>0.00</td>\n",
       "      <td>0.81</td>\n",
       "      <td>2026.10</td>\n",
       "      <td>False</td>\n",
       "    </tr>\n",
       "    <tr>\n",
       "      <th>19</th>\n",
       "      <td>1000087442</td>\n",
       "      <td>Mountain brew: A quest for alcohol sustainability</td>\n",
       "      <td>Drinks</td>\n",
       "      <td>Food</td>\n",
       "      <td>NOK</td>\n",
       "      <td>2015-02-25</td>\n",
       "      <td>500.0</td>\n",
       "      <td>2015-01-26 19:17:33</td>\n",
       "      <td>48.0</td>\n",
       "      <td>3</td>\n",
       "      <td>NO</td>\n",
       "      <td>6.18</td>\n",
       "      <td>6.29</td>\n",
       "      <td>65.55</td>\n",
       "      <td>False</td>\n",
       "    </tr>\n",
       "    <tr>\n",
       "      <th>25</th>\n",
       "      <td>1000115172</td>\n",
       "      <td>Daily Brew Coffee</td>\n",
       "      <td>Food Trucks</td>\n",
       "      <td>Food</td>\n",
       "      <td>GBP</td>\n",
       "      <td>2015-03-31</td>\n",
       "      <td>3500.0</td>\n",
       "      <td>2015-03-01 18:06:32</td>\n",
       "      <td>21.0</td>\n",
       "      <td>1</td>\n",
       "      <td>GB</td>\n",
       "      <td>32.42</td>\n",
       "      <td>31.09</td>\n",
       "      <td>5181.12</td>\n",
       "      <td>False</td>\n",
       "    </tr>\n",
       "    <tr>\n",
       "      <th>33</th>\n",
       "      <td>1000134913</td>\n",
       "      <td>Galaxy: Winnie and Friends</td>\n",
       "      <td>Illustration</td>\n",
       "      <td>Art</td>\n",
       "      <td>USD</td>\n",
       "      <td>2016-01-27</td>\n",
       "      <td>3000.0</td>\n",
       "      <td>2015-12-23 21:47:29</td>\n",
       "      <td>17.0</td>\n",
       "      <td>2</td>\n",
       "      <td>US</td>\n",
       "      <td>17.00</td>\n",
       "      <td>17.00</td>\n",
       "      <td>3000.00</td>\n",
       "      <td>False</td>\n",
       "    </tr>\n",
       "    <tr>\n",
       "      <th>42</th>\n",
       "      <td>1000197321</td>\n",
       "      <td>(In)visible Empire Tees</td>\n",
       "      <td>Public Art</td>\n",
       "      <td>Art</td>\n",
       "      <td>USD</td>\n",
       "      <td>2016-01-02</td>\n",
       "      <td>1200.0</td>\n",
       "      <td>2015-11-22 22:47:44</td>\n",
       "      <td>90.0</td>\n",
       "      <td>4</td>\n",
       "      <td>US</td>\n",
       "      <td>90.00</td>\n",
       "      <td>90.00</td>\n",
       "      <td>1200.00</td>\n",
       "      <td>False</td>\n",
       "    </tr>\n",
       "    <tr>\n",
       "      <th>44</th>\n",
       "      <td>100020143</td>\n",
       "      <td>H2O The Underwater Portraits</td>\n",
       "      <td>People</td>\n",
       "      <td>Photography</td>\n",
       "      <td>USD</td>\n",
       "      <td>2017-10-30</td>\n",
       "      <td>9500.0</td>\n",
       "      <td>2017-09-25 17:17:43</td>\n",
       "      <td>6.0</td>\n",
       "      <td>2</td>\n",
       "      <td>US</td>\n",
       "      <td>5.00</td>\n",
       "      <td>6.00</td>\n",
       "      <td>9500.00</td>\n",
       "      <td>False</td>\n",
       "    </tr>\n",
       "    <tr>\n",
       "      <th>45</th>\n",
       "      <td>1000202062</td>\n",
       "      <td>SkateFrames-Photo frame made from recycled ska...</td>\n",
       "      <td>Art</td>\n",
       "      <td>Art</td>\n",
       "      <td>USD</td>\n",
       "      <td>2015-05-08</td>\n",
       "      <td>7500.0</td>\n",
       "      <td>2015-04-08 02:53:18</td>\n",
       "      <td>3.0</td>\n",
       "      <td>3</td>\n",
       "      <td>US</td>\n",
       "      <td>3.00</td>\n",
       "      <td>3.00</td>\n",
       "      <td>7500.00</td>\n",
       "      <td>False</td>\n",
       "    </tr>\n",
       "  </tbody>\n",
       "</table>\n",
       "</div>"
      ],
      "text/plain": [
       "            ID                                               name  \\\n",
       "1   1000004038                                     Where is Hank?   \n",
       "2   1000007540  ToshiCapital Rekordz Needs Help to Complete Album   \n",
       "14  1000070642                Mike Corey's Darkness & Light Album   \n",
       "17  1000081649                   MikeyJ clothing brand fundraiser   \n",
       "19  1000087442  Mountain brew: A quest for alcohol sustainability   \n",
       "25  1000115172                                  Daily Brew Coffee   \n",
       "33  1000134913                         Galaxy: Winnie and Friends   \n",
       "42  1000197321                            (In)visible Empire Tees   \n",
       "44   100020143                       H2O The Underwater Portraits   \n",
       "45  1000202062  SkateFrames-Photo frame made from recycled ska...   \n",
       "\n",
       "          category main_category currency    deadline     goal  \\\n",
       "1   Narrative Film  Film & Video      USD  2013-02-26  45000.0   \n",
       "2            Music         Music      USD  2012-04-16   5000.0   \n",
       "14           Music         Music      USD  2012-08-17    250.0   \n",
       "17   Childrenswear       Fashion      AUD  2017-09-07   2500.0   \n",
       "19          Drinks          Food      NOK  2015-02-25    500.0   \n",
       "25     Food Trucks          Food      GBP  2015-03-31   3500.0   \n",
       "33    Illustration           Art      USD  2016-01-27   3000.0   \n",
       "42      Public Art           Art      USD  2016-01-02   1200.0   \n",
       "44          People   Photography      USD  2017-10-30   9500.0   \n",
       "45             Art           Art      USD  2015-05-08   7500.0   \n",
       "\n",
       "               launched  pledged  backers country  usd pledged  \\\n",
       "1   2013-01-12 00:20:50    220.0        3      US       220.00   \n",
       "2   2012-03-17 03:24:11      1.0        1      US         1.00   \n",
       "14  2012-08-02 14:11:32    250.0        7      US       250.00   \n",
       "17  2017-08-08 01:20:20      1.0        1      AU         0.00   \n",
       "19  2015-01-26 19:17:33     48.0        3      NO         6.18   \n",
       "25  2015-03-01 18:06:32     21.0        1      GB        32.42   \n",
       "33  2015-12-23 21:47:29     17.0        2      US        17.00   \n",
       "42  2015-11-22 22:47:44     90.0        4      US        90.00   \n",
       "44  2017-09-25 17:17:43      6.0        2      US         5.00   \n",
       "45  2015-04-08 02:53:18      3.0        3      US         3.00   \n",
       "\n",
       "    usd_pledged_real  usd_goal_real  successful  \n",
       "1             220.00       45000.00       False  \n",
       "2               1.00        5000.00       False  \n",
       "14            250.00         250.00        True  \n",
       "17              0.81        2026.10       False  \n",
       "19              6.29          65.55       False  \n",
       "25             31.09        5181.12       False  \n",
       "33             17.00        3000.00       False  \n",
       "42             90.00        1200.00       False  \n",
       "44              6.00        9500.00       False  \n",
       "45              3.00        7500.00       False  "
      ]
     },
     "execution_count": 31,
     "metadata": {},
     "output_type": "execute_result"
    }
   ],
   "source": [
    "df[bv].head(10)"
   ]
  },
  {
   "cell_type": "markdown",
   "metadata": {},
   "source": [
    "Има доста такива проекти. Добрата вест е, че те или са много амбициозни, или лесно достижими, гледайки целта им.\n",
    "\n",
    "#### usd pledged, usd_pledged_real, usd_goal_real\n",
    "\n",
    "Тези feature-и са малко объркващи. Добра идея е да имаме някакъв вид обмен -- рублите и българските лева са доста различни и\n",
    "линейната регресия няма да се радва, ако не й кажем как да ги различава. За random forest това не е точно така, но не можем да\n",
    "разчитаме, че той ще е толкова умен.\n",
    "\n",
    "Предоставен е interact widget, с който можем да променяме валутата и годината. Има три графики - една, която игнорира валутата и годината. Друга, която взима предвид само валутата и последно такава, която взима предвид и годината. Целта на widget-а е да се\n",
    "убедим, че става въпрос за смяна на валутата, понеже в kaggle не беше съвсем пояснено."
   ]
  },
  {
   "cell_type": "code",
   "execution_count": 32,
   "metadata": {},
   "outputs": [
    {
     "data": {
      "application/vnd.jupyter.widget-view+json": {
       "model_id": "2f4e0bb862d146fc9bb8dd11bd6bb119",
       "version_major": 2,
       "version_minor": 0
      },
      "text/plain": [
       "interactive(children=(Dropdown(description='feature', options=('usd_pledged_real', 'usd pledged'), value='usd_…"
      ]
     },
     "metadata": {},
     "output_type": "display_data"
    }
   ],
   "source": [
    "def plotConversions (feature, currency, when):\n",
    "    fig = plt.figure (figsize=(13, 12))\n",
    "    ax1 = fig.add_subplot (3, 1, 1)\n",
    "    ax2 = fig.add_subplot (3, 1, 2)\n",
    "    ax3 = fig.add_subplot (3, 1, 3)\n",
    "    \n",
    "    sns.regplot (ax=ax1, x=\"pledged\", y=feature, data=df);\n",
    "    bv = df.currency==currency\n",
    "    sns.regplot (ax=ax2, x=\"pledged\", y=feature, data=df[bv]);\n",
    "    bv &= year==when\n",
    "    sns.regplot (ax=ax3, x=\"pledged\", y=feature, data=df[bv]);\n",
    "\n",
    "featureDropdown = ['usd_pledged_real', 'usd pledged']\n",
    "currencyDropdown = df.currency.value_counts().index.get_values()\n",
    "interact (plotConversions, feature=featureDropdown, currency=currencyDropdown,\n",
    "          when=widgets.IntSlider(min=year.min(), max=year.max(), value=2014));"
   ]
  },
  {
   "cell_type": "code",
   "execution_count": 33,
   "metadata": {},
   "outputs": [
    {
     "data": {
      "image/png": "[encoded data removed]",
      "text/plain": [
       "<Figure size 432x288 with 1 Axes>"
      ]
     },
     "metadata": {
      "needs_background": "light"
     },
     "output_type": "display_data"
    }
   ],
   "source": [
    "sns.regplot (x=\"usd pledged\", y=\"usd_pledged_real\", data=df);"
   ]
  },
  {
   "cell_type": "markdown",
   "metadata": {},
   "source": [
    "Стана ясно какво представляват `usd pledged` и `usd_pledged_real` индивидуално, не и в какво се състои разликата.\n",
    "В kaggle пише, че това разликата между двете е в определянето\n",
    "на курса. Данните не показват точно това.\n",
    "\n",
    "## Feature importance\n",
    "\n",
    "Да видим каква е вероятността за успех според стойността на отделните feature-и.\n",
    "\n",
    "#### launch\n",
    "\n",
    "Ще разгледаме подробно за зависимост в деня, месеца, годината и седмичен ден."
   ]
  },
  {
   "cell_type": "code",
   "execution_count": 34,
   "metadata": {
    "scrolled": false
   },
   "outputs": [
    {
     "data": {
      "image/png": "[encoded data removed]",
      "text/plain": [
       "<Figure size 1080x936 with 4 Axes>"
      ]
     },
     "metadata": {
      "needs_background": "light"
     },
     "output_type": "display_data"
    }
   ],
   "source": [
    "fig = plt.figure (figsize=(15, 13))\n",
    "ax1 = fig.add_subplot (4, 1, 1)\n",
    "ax2 = fig.add_subplot (4, 1, 2)\n",
    "ax3 = fig.add_subplot (4, 1, 3)\n",
    "ax4 = fig.add_subplot (4, 1, 4)\n",
    "\n",
    "sns.barplot(ax=ax1, x=weekday, y=successful);\n",
    "sns.barplot(ax=ax2, x=day, y=successful);\n",
    "sns.barplot(ax=ax3, x=month, y=successful);\n",
    "sns.barplot(ax=ax4, x=year, y=successful);"
   ]
  },
  {
   "cell_type": "markdown",
   "metadata": {},
   "source": [
    "Заключваме, че кой точно е деня не е от значение. Така и така проектите са с около месец продължителност и дори някой да публикува\n",
    "в \"неподходящ момент\", то всеки друг проект ще мине през този неподходящ момент (например към края на месеца). Деня от седмицата\n",
    "също не показва ефект върху данните, вероятно по същата причина.\n",
    "\n",
    "Кой месец е като че ли има значение. Юли, август, и декември не са случайни месеци - юли и август на море, а около декември има много празници. Ще включим съответен feature.\n",
    "\n",
    "Годината също влияние. Хипотезата ни беше вярна - през 2014 се наблюдава спад и не случайно леко се покачва до 2017.\n",
    "\n",
    "## category & main_category\n",
    "\n",
    "Да проверим отделните вероятности и дали наистина можем да drop-нем main_category."
   ]
  },
  {
   "cell_type": "code",
   "execution_count": 35,
   "metadata": {},
   "outputs": [
    {
     "data": {
      "image/png": "[encoded data removed]",
      "text/plain": [
       "<Figure size 1440x504 with 2 Axes>"
      ]
     },
     "metadata": {
      "needs_background": "light"
     },
     "output_type": "display_data"
    }
   ],
   "source": [
    "fig = plt.figure (figsize=(20, 7))\n",
    "ax1 = fig.add_subplot (2, 1, 1)\n",
    "ax2 = fig.add_subplot (2, 1, 2)\n",
    "\n",
    "sns.barplot (ax=ax1, x=\"main_category\", y=\"successful\", data=df);\n",
    "\n",
    "categoryIndex = df.category.value_counts()[0:15].index\n",
    "bv = [categoryIndex.contains(x) for x in df.category]\n",
    "sns.barplot (ax=ax2, x=\"category\", y=\"successful\", data=df[bv]);"
   ]
  },
  {
   "cell_type": "markdown",
   "metadata": {},
   "source": [
    "Категорията е важна. Тук може би се изразява най-голяма разлика между отделните стойности на feature-ите.\n",
    "Много от имената се повтарят между `category` и `main_category`. Вероятностите им са подобни. Това ни подсказва да\n",
    "drop-нем `main_category`, понеже не ни казва нищо ново.\n",
    "\n",
    "#### duration"
   ]
  },
  {
   "cell_type": "code",
   "execution_count": 36,
   "metadata": {},
   "outputs": [
    {
     "data": {
      "image/png": "[encoded data removed]",
      "text/plain": [
       "<Figure size 432x288 with 1 Axes>"
      ]
     },
     "metadata": {
      "needs_background": "light"
     },
     "output_type": "display_data"
    }
   ],
   "source": [
    "sns.boxplot(x=successful, y=duration);"
   ]
  },
  {
   "cell_type": "markdown",
   "metadata": {},
   "source": [
    "Проектите, който са успешни, са с по-малка дисперсия от другите. Да разгледаме duration-а на успешните проекти"
   ]
  },
  {
   "cell_type": "code",
   "execution_count": 37,
   "metadata": {},
   "outputs": [
    {
     "data": {
      "text/plain": [
       "count    1790.000000\n",
       "mean       31.934800\n",
       "std        11.303548\n",
       "min         3.000000\n",
       "25%        29.958333\n",
       "50%        30.000000\n",
       "75%        34.989583\n",
       "max        90.958333\n",
       "Name: duration, dtype: float64"
      ]
     },
     "execution_count": 37,
     "metadata": {},
     "output_type": "execute_result"
    }
   ],
   "source": [
    "duration[successful].describe()"
   ]
  },
  {
   "cell_type": "code",
   "execution_count": 38,
   "metadata": {},
   "outputs": [
    {
     "data": {
      "image/png": "[encoded data removed]",
      "text/plain": [
       "<Figure size 432x288 with 1 Axes>"
      ]
     },
     "metadata": {
      "needs_background": "light"
     },
     "output_type": "display_data"
    }
   ],
   "source": [
    "xs = range (1, 65)\n",
    "ys = [successful[duration>x].sum() / (duration>x).size for x in xs]\n",
    "sns.scatterplot(xs, ys);"
   ]
  },
  {
   "cell_type": "code",
   "execution_count": 39,
   "metadata": {},
   "outputs": [
    {
     "name": "stdout",
     "output_type": "stream",
     "text": [
      "probability of success if project length is more than 29: 0.3207948899929028\n",
      "probability of success if project length is more than 30: 0.16702152827064112\n"
     ]
    }
   ],
   "source": [
    "print (\"probability of success if project length is more than 29:\", ys[28])\n",
    "print (\"probability of success if project length is more than 30:\", ys[29])"
   ]
  },
  {
   "cell_type": "markdown",
   "metadata": {},
   "source": [
    "Тази графика показва каква е вероятността проект да е успешен, ако той е с продължителност повече от x дни.\n",
    "От x=10-30 дни виждаме бавен спад, но около x=30 има голям скок, вероятността почти пада двойно. Това ни подсказва\n",
    "как точно да направим binning (в случай, че не използваме random forest)\n",
    "\n",
    "#### country"
   ]
  },
  {
   "cell_type": "code",
   "execution_count": 40,
   "metadata": {},
   "outputs": [
    {
     "data": {
      "image/png": "[encoded data removed]",
      "text/plain": [
       "<Figure size 432x288 with 1 Axes>"
      ]
     },
     "metadata": {
      "needs_background": "light"
     },
     "output_type": "display_data"
    }
   ],
   "source": [
    "sns.barplot (x=topCountry, y=successful);"
   ]
  },
  {
   "cell_type": "markdown",
   "metadata": {},
   "source": [
    "Мнго е важно от коя страна произлиза проекта, което е горе-долу очаквано.\n",
    "\n",
    "#### goal, pledged, backers"
   ]
  },
  {
   "cell_type": "code",
   "execution_count": 41,
   "metadata": {},
   "outputs": [
    {
     "data": {
      "image/png": "[encoded data removed]",
      "text/plain": [
       "<Figure size 1152x576 with 3 Axes>"
      ]
     },
     "metadata": {
      "needs_background": "light"
     },
     "output_type": "display_data"
    }
   ],
   "source": [
    "fig = plt.figure (figsize= (16, 8))\n",
    "ax1 = fig.add_subplot (1, 3, 1)\n",
    "ax2 = fig.add_subplot (1, 3, 2)\n",
    "ax3 = fig.add_subplot (1, 3, 3)\n",
    "\n",
    "bv = df.goal < df.goal.quantile (0.95)\n",
    "sns.boxplot (ax=ax1, x=\"successful\", y=\"goal\", data=df[bv]);\n",
    "\n",
    "bv = df.pledged < df.pledged.quantile (0.95)\n",
    "sns.boxplot (ax=ax2, x=\"successful\", y=\"pledged\", data=df[bv]);\n",
    "\n",
    "bv = df.backers < df.backers.quantile (0.95)\n",
    "sns.boxplot (ax=ax3, x=\"successful\", y=\"backers\", data=df[bv]);"
   ]
  },
  {
   "cell_type": "markdown",
   "metadata": {},
   "source": [
    "Бихме очаквали, че проекти с по-малък goal ще бъдът по-успешни, но уви. Разликата е малка в средната стойност, квантилите са по-близки. Но дистрибуцията е доста с по-тежка опашка -- това са някакви много известни проекти със сериозна финансова нужда\n",
    "\n",
    "`pledged` пък отговаря повече на очакването. При това неуспешните проекти са събрали доста по-малко пари от успешните, въпреки че техния `goal` беше повече. Това значи, че голяма част от неуспешните проекти не им е достигнало доста.\n",
    "\n",
    "Последно, виждаме, че `backers` оказва влияние. При това boxplot-овете са подобни на `pledged`. Toва ни води на мисълта\n",
    "да пробваме нов feature -- `goal_per_backer` или колко пари трябва средно да даде човек, подкрепил проекта, така че той\n",
    "да бъде успешен."
   ]
  },
  {
   "cell_type": "code",
   "execution_count": 42,
   "metadata": {},
   "outputs": [
    {
     "data": {
      "image/png": "[encoded data removed]",
      "text/plain": [
       "<Figure size 720x360 with 2 Axes>"
      ]
     },
     "metadata": {
      "needs_background": "light"
     },
     "output_type": "display_data"
    }
   ],
   "source": [
    "goalPerBacker = df.usd_goal_real / df.backers\n",
    "\n",
    "fig = plt.figure (figsize = (10, 5))\n",
    "ax1 = fig.add_subplot (1, 2, 1)\n",
    "ax2 = fig.add_subplot (1, 2, 2)\n",
    "\n",
    "q = goalPerBacker.quantile (0.9)\n",
    "goalPerBacker[goalPerBacker < q].plot(kind=\"hist\", title = \"goal per backer (trimmed)\", ax=ax1);\n",
    "\n",
    "np.log10(goalPerBacker).plot(kind=\"hist\", title = \"goal per backer (log transformed)\", ax=ax2);"
   ]
  },
  {
   "cell_type": "code",
   "execution_count": 43,
   "metadata": {},
   "outputs": [
    {
     "data": {
      "image/png": "[encoded data removed]",
      "text/plain": [
       "<Figure size 1080x360 with 2 Axes>"
      ]
     },
     "metadata": {
      "needs_background": "light"
     },
     "output_type": "display_data"
    }
   ],
   "source": [
    "fig = plt.figure (figsize = (15, 5))\n",
    "ax1 = fig.add_subplot (1, 3, 1)\n",
    "ax2 = fig.add_subplot (1, 3, 2)\n",
    "\n",
    "sns.boxplot (ax=ax1, x=successful, y=goalPerBacker);\n",
    "\n",
    "bv = goalPerBacker < 1000\n",
    "sns.boxplot (ax=ax2, x=successful[bv], y=goalPerBacker[bv]);"
   ]
  },
  {
   "cell_type": "markdown",
   "metadata": {},
   "source": [
    "О, да. 1.5 милион долара на човек -- много далеч от истината. Трябва да ограничим boxplot-а до едва хиляда долъра на човек, което\n",
    "пак е безумно, за да видим десния boxplot. 800 долара на човек? Сигурно са проекти с малко backer-и. Да видим какво ще\n",
    "каже `describe`."
   ]
  },
  {
   "cell_type": "code",
   "execution_count": 44,
   "metadata": {},
   "outputs": [
    {
     "data": {
      "text/plain": [
       "count    1790.000000\n",
       "mean       70.208089\n",
       "std        79.742190\n",
       "min         0.000667\n",
       "25%        26.123643\n",
       "50%        50.000000\n",
       "75%        83.333333\n",
       "max      1090.909091\n",
       "dtype: float64"
      ]
     },
     "execution_count": 44,
     "metadata": {},
     "output_type": "execute_result"
    }
   ],
   "source": [
    "goalPerBacker[successful].describe()"
   ]
  },
  {
   "cell_type": "markdown",
   "metadata": {},
   "source": [
    "Изглежда разумно. Ще запазим този feature.\n",
    "\n",
    "Нека проверим хипотезата, че един проект е успешен, ако е изпълнил своята парична цел."
   ]
  },
  {
   "cell_type": "code",
   "execution_count": 45,
   "metadata": {},
   "outputs": [
    {
     "data": {
      "image/png": "[encoded data removed]",
      "text/plain": [
       "<Figure size 432x288 with 1 Axes>"
      ]
     },
     "metadata": {
      "needs_background": "light"
     },
     "output_type": "display_data"
    }
   ],
   "source": [
    "goalAchieved = df.pledged >= df.goal\n",
    "sns.barplot (x=goalAchieved, y=successful);"
   ]
  },
  {
   "cell_type": "markdown",
   "metadata": {},
   "source": [
    "Супер. Вече знам какво да правим с feature-ите. Последен плот..."
   ]
  },
  {
   "cell_type": "code",
   "execution_count": 46,
   "metadata": {},
   "outputs": [
    {
     "data": {
      "image/png": "[encoded data removed]",
      "text/plain": [
       "<Figure size 1080x360 with 2 Axes>"
      ]
     },
     "metadata": {
      "needs_background": "light"
     },
     "output_type": "display_data"
    }
   ],
   "source": [
    "ratio = df.pledged / df.goal\n",
    "\n",
    "fig = plt.figure (figsize = (15, 5))\n",
    "ax1 = fig.add_subplot (1, 2, 1)\n",
    "ax2 = fig.add_subplot (1, 2, 2)\n",
    "\n",
    "ratio[df.successful].plot(ax=ax1, kind=\"hist\",\n",
    "                          bins=[0.9, 1, 1.2, 1.4, 1.6, 1.8, 2, 3, 5, 8],\n",
    "                          title=\"success ratio\");\n",
    "\n",
    "ratio[~df.successful].plot(ax=ax2, kind=\"hist\",\n",
    "                           bins=[0.1, 0.2, 0.3, 0.4, 0.5, 0.6, 0.7, 0.8, 1, 2, 3, 5],\n",
    "                                 title=\"failure ratio\");"
   ]
  },
  {
   "cell_type": "markdown",
   "metadata": {},
   "source": [
    "Все пак е възможно проект да е събрал пари, но да не е успешен.\n",
    "\n",
    "Ако проект е събрал пари, то с много голяма вероятност ще е близо до целта. Ако проект не е събрал пари, то вероятно е далече от\n",
    "крайната цел.\n",
    "\n",
    "## baseline model\n",
    "\n",
    "От data exploration-а разбрахме кои са най-важните feature-и -- `usd_goal_real` и `backers`. Знаем, че искаме\n",
    "да предскажем successful - дали проект е успешен или не. Знаем, че един проект да е успешен означава да е достигнал\n",
    "своята цел. Следователно ще се наложи да drop-нем и pledged feature-ите. Освен класификатор, може да направим и регресор,\n",
    "който предсказва колко пари един проект ще изкара.\n",
    "\n",
    "Да започнем с baseline модел."
   ]
  },
  {
   "cell_type": "code",
   "execution_count": 47,
   "metadata": {},
   "outputs": [
    {
     "data": {
      "text/html": [
       "<div>\n",
       "<style scoped>\n",
       "    .dataframe tbody tr th:only-of-type {\n",
       "        vertical-align: middle;\n",
       "    }\n",
       "\n",
       "    .dataframe tbody tr th {\n",
       "        vertical-align: top;\n",
       "    }\n",
       "\n",
       "    .dataframe thead th {\n",
       "        text-align: right;\n",
       "    }\n",
       "</style>\n",
       "<table border=\"1\" class=\"dataframe\">\n",
       "  <thead>\n",
       "    <tr style=\"text-align: right;\">\n",
       "      <th></th>\n",
       "      <th>usd_goal_real</th>\n",
       "      <th>backers</th>\n",
       "    </tr>\n",
       "  </thead>\n",
       "  <tbody>\n",
       "    <tr>\n",
       "      <th>0</th>\n",
       "      <td>30000.0</td>\n",
       "      <td>15</td>\n",
       "    </tr>\n",
       "    <tr>\n",
       "      <th>1</th>\n",
       "      <td>45000.0</td>\n",
       "      <td>3</td>\n",
       "    </tr>\n",
       "    <tr>\n",
       "      <th>2</th>\n",
       "      <td>5000.0</td>\n",
       "      <td>1</td>\n",
       "    </tr>\n",
       "    <tr>\n",
       "      <th>3</th>\n",
       "      <td>19500.0</td>\n",
       "      <td>14</td>\n",
       "    </tr>\n",
       "    <tr>\n",
       "      <th>4</th>\n",
       "      <td>50000.0</td>\n",
       "      <td>224</td>\n",
       "    </tr>\n",
       "  </tbody>\n",
       "</table>\n",
       "</div>"
      ],
      "text/plain": [
       "   usd_goal_real  backers\n",
       "0        30000.0       15\n",
       "1        45000.0        3\n",
       "2         5000.0        1\n",
       "3        19500.0       14\n",
       "4        50000.0      224"
      ]
     },
     "execution_count": 47,
     "metadata": {},
     "output_type": "execute_result"
    }
   ],
   "source": [
    "X_baseline = df[['usd_goal_real', 'backers']]\n",
    "y = successful\n",
    "\n",
    "X_baseline.head (5)"
   ]
  },
  {
   "cell_type": "code",
   "execution_count": 48,
   "metadata": {},
   "outputs": [
    {
     "name": "stdout",
     "output_type": "stream",
     "text": [
      "train score: 0.9766561514195583\n",
      "test score:  0.8845789971617786\n"
     ]
    }
   ],
   "source": [
    "from sklearn.model_selection import train_test_split\n",
    "from sklearn.ensemble import RandomForestClassifier\n",
    "\n",
    "X_train, X_test, y_train, y_test = train_test_split(X_baseline, y, stratify=y, random_state=515)\n",
    "model = RandomForestClassifier(random_state=155).fit(X_train, y_train)\n",
    "print(\"train score:\", model.score(X_train, y_train))\n",
    "print(\"test score: \", model.score(X_test, y_test))"
   ]
  },
  {
   "cell_type": "markdown",
   "metadata": {},
   "source": [
    "Никак зле! Да намерим по-добри параметри от default."
   ]
  },
  {
   "cell_type": "code",
   "execution_count": 49,
   "metadata": {},
   "outputs": [],
   "source": [
    "from sklearn.model_selection import GridSearchCV\n",
    "\n",
    "def gridSearchRf (X, y, params={'n_estimators': [10, 30, 50, 70, 100], 'max_depth': [2, 4, 6, 8, 10, 12, 15]}):\n",
    "    search = GridSearchCV(model, params)\n",
    "    search.fit(X, y)\n",
    "    return pd.DataFrame(search.cv_results_)[['rank_test_score', 'mean_test_score', 'params']].sort_values(by='rank_test_score').head(10)"
   ]
  },
  {
   "cell_type": "code",
   "execution_count": 50,
   "metadata": {},
   "outputs": [
    {
     "data": {
      "text/html": [
       "<div>\n",
       "<style scoped>\n",
       "    .dataframe tbody tr th:only-of-type {\n",
       "        vertical-align: middle;\n",
       "    }\n",
       "\n",
       "    .dataframe tbody tr th {\n",
       "        vertical-align: top;\n",
       "    }\n",
       "\n",
       "    .dataframe thead th {\n",
       "        text-align: right;\n",
       "    }\n",
       "</style>\n",
       "<table border=\"1\" class=\"dataframe\">\n",
       "  <thead>\n",
       "    <tr style=\"text-align: right;\">\n",
       "      <th></th>\n",
       "      <th>rank_test_score</th>\n",
       "      <th>mean_test_score</th>\n",
       "      <th>params</th>\n",
       "    </tr>\n",
       "  </thead>\n",
       "  <tbody>\n",
       "    <tr>\n",
       "      <th>13</th>\n",
       "      <td>1</td>\n",
       "      <td>0.906317</td>\n",
       "      <td>{'max_depth': 6, 'n_estimators': 70}</td>\n",
       "    </tr>\n",
       "    <tr>\n",
       "      <th>10</th>\n",
       "      <td>2</td>\n",
       "      <td>0.906080</td>\n",
       "      <td>{'max_depth': 6, 'n_estimators': 10}</td>\n",
       "    </tr>\n",
       "    <tr>\n",
       "      <th>12</th>\n",
       "      <td>3</td>\n",
       "      <td>0.905843</td>\n",
       "      <td>{'max_depth': 6, 'n_estimators': 50}</td>\n",
       "    </tr>\n",
       "    <tr>\n",
       "      <th>11</th>\n",
       "      <td>4</td>\n",
       "      <td>0.905370</td>\n",
       "      <td>{'max_depth': 6, 'n_estimators': 30}</td>\n",
       "    </tr>\n",
       "    <tr>\n",
       "      <th>8</th>\n",
       "      <td>5</td>\n",
       "      <td>0.905134</td>\n",
       "      <td>{'max_depth': 4, 'n_estimators': 70}</td>\n",
       "    </tr>\n",
       "    <tr>\n",
       "      <th>9</th>\n",
       "      <td>6</td>\n",
       "      <td>0.904424</td>\n",
       "      <td>{'max_depth': 4, 'n_estimators': 100}</td>\n",
       "    </tr>\n",
       "    <tr>\n",
       "      <th>6</th>\n",
       "      <td>7</td>\n",
       "      <td>0.904187</td>\n",
       "      <td>{'max_depth': 4, 'n_estimators': 30}</td>\n",
       "    </tr>\n",
       "    <tr>\n",
       "      <th>14</th>\n",
       "      <td>7</td>\n",
       "      <td>0.904187</td>\n",
       "      <td>{'max_depth': 6, 'n_estimators': 100}</td>\n",
       "    </tr>\n",
       "    <tr>\n",
       "      <th>7</th>\n",
       "      <td>9</td>\n",
       "      <td>0.903714</td>\n",
       "      <td>{'max_depth': 4, 'n_estimators': 50}</td>\n",
       "    </tr>\n",
       "    <tr>\n",
       "      <th>5</th>\n",
       "      <td>10</td>\n",
       "      <td>0.903004</td>\n",
       "      <td>{'max_depth': 4, 'n_estimators': 10}</td>\n",
       "    </tr>\n",
       "  </tbody>\n",
       "</table>\n",
       "</div>"
      ],
      "text/plain": [
       "    rank_test_score  mean_test_score                                 params\n",
       "13                1         0.906317   {'max_depth': 6, 'n_estimators': 70}\n",
       "10                2         0.906080   {'max_depth': 6, 'n_estimators': 10}\n",
       "12                3         0.905843   {'max_depth': 6, 'n_estimators': 50}\n",
       "11                4         0.905370   {'max_depth': 6, 'n_estimators': 30}\n",
       "8                 5         0.905134   {'max_depth': 4, 'n_estimators': 70}\n",
       "9                 6         0.904424  {'max_depth': 4, 'n_estimators': 100}\n",
       "6                 7         0.904187   {'max_depth': 4, 'n_estimators': 30}\n",
       "14                7         0.904187  {'max_depth': 6, 'n_estimators': 100}\n",
       "7                 9         0.903714   {'max_depth': 4, 'n_estimators': 50}\n",
       "5                10         0.903004   {'max_depth': 4, 'n_estimators': 10}"
      ]
     },
     "execution_count": 50,
     "metadata": {},
     "output_type": "execute_result"
    }
   ],
   "source": [
    "gridSearchRf (X_baseline, y)"
   ]
  },
  {
   "cell_type": "code",
   "execution_count": 51,
   "metadata": {},
   "outputs": [
    {
     "name": "stdout",
     "output_type": "stream",
     "text": [
      "train score: 0.9422712933753943\n",
      "test score:  0.8997161778618732\n"
     ]
    }
   ],
   "source": [
    "model = RandomForestClassifier(max_depth=8, n_estimators=100, random_state=155).fit(X_train, y_train)\n",
    "print(\"train score:\", model.score(X_train, y_train))\n",
    "print(\"test score: \", model.score(X_test, y_test))"
   ]
  },
  {
   "cell_type": "markdown",
   "metadata": {},
   "source": [
    "Сега да пробваме с `goal_per_backer`."
   ]
  },
  {
   "cell_type": "code",
   "execution_count": 52,
   "metadata": {},
   "outputs": [
    {
     "data": {
      "text/html": [
       "<div>\n",
       "<style scoped>\n",
       "    .dataframe tbody tr th:only-of-type {\n",
       "        vertical-align: middle;\n",
       "    }\n",
       "\n",
       "    .dataframe tbody tr th {\n",
       "        vertical-align: top;\n",
       "    }\n",
       "\n",
       "    .dataframe thead th {\n",
       "        text-align: right;\n",
       "    }\n",
       "</style>\n",
       "<table border=\"1\" class=\"dataframe\">\n",
       "  <thead>\n",
       "    <tr style=\"text-align: right;\">\n",
       "      <th></th>\n",
       "      <th>rank_test_score</th>\n",
       "      <th>mean_test_score</th>\n",
       "      <th>params</th>\n",
       "    </tr>\n",
       "  </thead>\n",
       "  <tbody>\n",
       "    <tr>\n",
       "      <th>8</th>\n",
       "      <td>1</td>\n",
       "      <td>0.911048</td>\n",
       "      <td>{'max_depth': 4, 'n_estimators': 70}</td>\n",
       "    </tr>\n",
       "    <tr>\n",
       "      <th>6</th>\n",
       "      <td>2</td>\n",
       "      <td>0.910811</td>\n",
       "      <td>{'max_depth': 4, 'n_estimators': 30}</td>\n",
       "    </tr>\n",
       "    <tr>\n",
       "      <th>7</th>\n",
       "      <td>3</td>\n",
       "      <td>0.910575</td>\n",
       "      <td>{'max_depth': 4, 'n_estimators': 50}</td>\n",
       "    </tr>\n",
       "    <tr>\n",
       "      <th>9</th>\n",
       "      <td>4</td>\n",
       "      <td>0.910102</td>\n",
       "      <td>{'max_depth': 4, 'n_estimators': 100}</td>\n",
       "    </tr>\n",
       "    <tr>\n",
       "      <th>5</th>\n",
       "      <td>5</td>\n",
       "      <td>0.908682</td>\n",
       "      <td>{'max_depth': 4, 'n_estimators': 10}</td>\n",
       "    </tr>\n",
       "    <tr>\n",
       "      <th>14</th>\n",
       "      <td>6</td>\n",
       "      <td>0.907026</td>\n",
       "      <td>{'max_depth': 6, 'n_estimators': 100}</td>\n",
       "    </tr>\n",
       "    <tr>\n",
       "      <th>13</th>\n",
       "      <td>7</td>\n",
       "      <td>0.906553</td>\n",
       "      <td>{'max_depth': 6, 'n_estimators': 70}</td>\n",
       "    </tr>\n",
       "    <tr>\n",
       "      <th>11</th>\n",
       "      <td>7</td>\n",
       "      <td>0.906553</td>\n",
       "      <td>{'max_depth': 6, 'n_estimators': 30}</td>\n",
       "    </tr>\n",
       "    <tr>\n",
       "      <th>12</th>\n",
       "      <td>9</td>\n",
       "      <td>0.906317</td>\n",
       "      <td>{'max_depth': 6, 'n_estimators': 50}</td>\n",
       "    </tr>\n",
       "    <tr>\n",
       "      <th>10</th>\n",
       "      <td>10</td>\n",
       "      <td>0.904424</td>\n",
       "      <td>{'max_depth': 6, 'n_estimators': 10}</td>\n",
       "    </tr>\n",
       "  </tbody>\n",
       "</table>\n",
       "</div>"
      ],
      "text/plain": [
       "    rank_test_score  mean_test_score                                 params\n",
       "8                 1         0.911048   {'max_depth': 4, 'n_estimators': 70}\n",
       "6                 2         0.910811   {'max_depth': 4, 'n_estimators': 30}\n",
       "7                 3         0.910575   {'max_depth': 4, 'n_estimators': 50}\n",
       "9                 4         0.910102  {'max_depth': 4, 'n_estimators': 100}\n",
       "5                 5         0.908682   {'max_depth': 4, 'n_estimators': 10}\n",
       "14                6         0.907026  {'max_depth': 6, 'n_estimators': 100}\n",
       "13                7         0.906553   {'max_depth': 6, 'n_estimators': 70}\n",
       "11                7         0.906553   {'max_depth': 6, 'n_estimators': 30}\n",
       "12                9         0.906317   {'max_depth': 6, 'n_estimators': 50}\n",
       "10               10         0.904424   {'max_depth': 6, 'n_estimators': 10}"
      ]
     },
     "execution_count": 52,
     "metadata": {},
     "output_type": "execute_result"
    }
   ],
   "source": [
    "X_baseline = X_baseline.assign (goal_per_backer=lambda x: x.usd_goal_real / x.backers)\n",
    "gridSearchRf (X_baseline, y)"
   ]
  },
  {
   "cell_type": "code",
   "execution_count": 53,
   "metadata": {},
   "outputs": [
    {
     "name": "stdout",
     "output_type": "stream",
     "text": [
      "train score: 0.9429022082018927\n",
      "test score:  0.9044465468306528\n"
     ]
    }
   ],
   "source": [
    "X_train, X_test, y_train, y_test = train_test_split(X_baseline, y, stratify=y, random_state=515)\n",
    "model = RandomForestClassifier(max_depth=8, n_estimators=70, random_state=155).fit(X_train, y_train)\n",
    "print(\"train score:\", model.score(X_train, y_train))\n",
    "print(\"test score: \", model.score(X_test, y_test))"
   ]
  },
  {
   "cell_type": "markdown",
   "metadata": {},
   "source": [
    "Определено има подобрение, но е минимално. Ще запазим този модел както си е. Нека сега да добавим и категорийните feature-и.\n",
    "\n",
    "## categorical data"
   ]
  },
  {
   "cell_type": "code",
   "execution_count": 54,
   "metadata": {},
   "outputs": [],
   "source": [
    "from sklearn.preprocessing import LabelEncoder\n",
    "from sklearn.preprocessing import OneHotEncoder\n",
    "\n",
    "def oneHotEncode (x):\n",
    "    le = LabelEncoder().fit(x)\n",
    "    columns = le.inverse_transform (range (0, le.classes_.size))\n",
    "    labelEncoded = le.transform(x)\n",
    "    \n",
    "    oneHotEncoded = OneHotEncoder().fit_transform(labelEncoded.reshape (labelEncoded.size, 1))\n",
    "    return pd.DataFrame (data=oneHotEncoded.todense(), columns=columns)"
   ]
  },
  {
   "cell_type": "code",
   "execution_count": 55,
   "metadata": {
    "scrolled": true
   },
   "outputs": [
    {
     "data": {
      "text/html": [
       "<div>\n",
       "<style scoped>\n",
       "    .dataframe tbody tr th:only-of-type {\n",
       "        vertical-align: middle;\n",
       "    }\n",
       "\n",
       "    .dataframe tbody tr th {\n",
       "        vertical-align: top;\n",
       "    }\n",
       "\n",
       "    .dataframe thead th {\n",
       "        text-align: right;\n",
       "    }\n",
       "</style>\n",
       "<table border=\"1\" class=\"dataframe\">\n",
       "  <thead>\n",
       "    <tr style=\"text-align: right;\">\n",
       "      <th></th>\n",
       "      <th>3D Printing</th>\n",
       "      <th>Academic</th>\n",
       "      <th>Accessories</th>\n",
       "      <th>Action</th>\n",
       "      <th>Animals</th>\n",
       "      <th>Animation</th>\n",
       "      <th>Anthologies</th>\n",
       "      <th>Apparel</th>\n",
       "      <th>Apps</th>\n",
       "      <th>Architecture</th>\n",
       "      <th>...</th>\n",
       "      <th>IE</th>\n",
       "      <th>IT</th>\n",
       "      <th>LU</th>\n",
       "      <th>MX</th>\n",
       "      <th>NL</th>\n",
       "      <th>NO</th>\n",
       "      <th>NZ</th>\n",
       "      <th>SE</th>\n",
       "      <th>SG</th>\n",
       "      <th>US</th>\n",
       "    </tr>\n",
       "  </thead>\n",
       "  <tbody>\n",
       "    <tr>\n",
       "      <th>0</th>\n",
       "      <td>0.0</td>\n",
       "      <td>0.0</td>\n",
       "      <td>0.0</td>\n",
       "      <td>0.0</td>\n",
       "      <td>0.0</td>\n",
       "      <td>0.0</td>\n",
       "      <td>0.0</td>\n",
       "      <td>0.0</td>\n",
       "      <td>0.0</td>\n",
       "      <td>0.0</td>\n",
       "      <td>...</td>\n",
       "      <td>0.0</td>\n",
       "      <td>0.0</td>\n",
       "      <td>0.0</td>\n",
       "      <td>0.0</td>\n",
       "      <td>0.0</td>\n",
       "      <td>0.0</td>\n",
       "      <td>0.0</td>\n",
       "      <td>0.0</td>\n",
       "      <td>0.0</td>\n",
       "      <td>1.0</td>\n",
       "    </tr>\n",
       "    <tr>\n",
       "      <th>1</th>\n",
       "      <td>0.0</td>\n",
       "      <td>0.0</td>\n",
       "      <td>0.0</td>\n",
       "      <td>0.0</td>\n",
       "      <td>0.0</td>\n",
       "      <td>0.0</td>\n",
       "      <td>0.0</td>\n",
       "      <td>0.0</td>\n",
       "      <td>0.0</td>\n",
       "      <td>0.0</td>\n",
       "      <td>...</td>\n",
       "      <td>0.0</td>\n",
       "      <td>0.0</td>\n",
       "      <td>0.0</td>\n",
       "      <td>0.0</td>\n",
       "      <td>0.0</td>\n",
       "      <td>0.0</td>\n",
       "      <td>0.0</td>\n",
       "      <td>0.0</td>\n",
       "      <td>0.0</td>\n",
       "      <td>1.0</td>\n",
       "    </tr>\n",
       "    <tr>\n",
       "      <th>2</th>\n",
       "      <td>0.0</td>\n",
       "      <td>0.0</td>\n",
       "      <td>0.0</td>\n",
       "      <td>0.0</td>\n",
       "      <td>0.0</td>\n",
       "      <td>0.0</td>\n",
       "      <td>0.0</td>\n",
       "      <td>0.0</td>\n",
       "      <td>0.0</td>\n",
       "      <td>0.0</td>\n",
       "      <td>...</td>\n",
       "      <td>0.0</td>\n",
       "      <td>0.0</td>\n",
       "      <td>0.0</td>\n",
       "      <td>0.0</td>\n",
       "      <td>0.0</td>\n",
       "      <td>0.0</td>\n",
       "      <td>0.0</td>\n",
       "      <td>0.0</td>\n",
       "      <td>0.0</td>\n",
       "      <td>1.0</td>\n",
       "    </tr>\n",
       "    <tr>\n",
       "      <th>3</th>\n",
       "      <td>0.0</td>\n",
       "      <td>0.0</td>\n",
       "      <td>0.0</td>\n",
       "      <td>0.0</td>\n",
       "      <td>0.0</td>\n",
       "      <td>0.0</td>\n",
       "      <td>0.0</td>\n",
       "      <td>0.0</td>\n",
       "      <td>0.0</td>\n",
       "      <td>0.0</td>\n",
       "      <td>...</td>\n",
       "      <td>0.0</td>\n",
       "      <td>0.0</td>\n",
       "      <td>0.0</td>\n",
       "      <td>0.0</td>\n",
       "      <td>0.0</td>\n",
       "      <td>0.0</td>\n",
       "      <td>0.0</td>\n",
       "      <td>0.0</td>\n",
       "      <td>0.0</td>\n",
       "      <td>1.0</td>\n",
       "    </tr>\n",
       "    <tr>\n",
       "      <th>4</th>\n",
       "      <td>0.0</td>\n",
       "      <td>0.0</td>\n",
       "      <td>0.0</td>\n",
       "      <td>0.0</td>\n",
       "      <td>0.0</td>\n",
       "      <td>0.0</td>\n",
       "      <td>0.0</td>\n",
       "      <td>0.0</td>\n",
       "      <td>0.0</td>\n",
       "      <td>0.0</td>\n",
       "      <td>...</td>\n",
       "      <td>0.0</td>\n",
       "      <td>0.0</td>\n",
       "      <td>0.0</td>\n",
       "      <td>0.0</td>\n",
       "      <td>0.0</td>\n",
       "      <td>0.0</td>\n",
       "      <td>0.0</td>\n",
       "      <td>0.0</td>\n",
       "      <td>0.0</td>\n",
       "      <td>1.0</td>\n",
       "    </tr>\n",
       "  </tbody>\n",
       "</table>\n",
       "<p>5 rows × 173 columns</p>\n",
       "</div>"
      ],
      "text/plain": [
       "   3D Printing  Academic  Accessories  Action  Animals  Animation  \\\n",
       "0          0.0       0.0          0.0     0.0      0.0        0.0   \n",
       "1          0.0       0.0          0.0     0.0      0.0        0.0   \n",
       "2          0.0       0.0          0.0     0.0      0.0        0.0   \n",
       "3          0.0       0.0          0.0     0.0      0.0        0.0   \n",
       "4          0.0       0.0          0.0     0.0      0.0        0.0   \n",
       "\n",
       "   Anthologies  Apparel  Apps  Architecture  ...   IE   IT   LU   MX   NL  \\\n",
       "0          0.0      0.0   0.0           0.0  ...  0.0  0.0  0.0  0.0  0.0   \n",
       "1          0.0      0.0   0.0           0.0  ...  0.0  0.0  0.0  0.0  0.0   \n",
       "2          0.0      0.0   0.0           0.0  ...  0.0  0.0  0.0  0.0  0.0   \n",
       "3          0.0      0.0   0.0           0.0  ...  0.0  0.0  0.0  0.0  0.0   \n",
       "4          0.0      0.0   0.0           0.0  ...  0.0  0.0  0.0  0.0  0.0   \n",
       "\n",
       "    NO   NZ   SE   SG   US  \n",
       "0  0.0  0.0  0.0  0.0  1.0  \n",
       "1  0.0  0.0  0.0  0.0  1.0  \n",
       "2  0.0  0.0  0.0  0.0  1.0  \n",
       "3  0.0  0.0  0.0  0.0  1.0  \n",
       "4  0.0  0.0  0.0  0.0  1.0  \n",
       "\n",
       "[5 rows x 173 columns]"
      ]
     },
     "execution_count": 55,
     "metadata": {},
     "output_type": "execute_result"
    }
   ],
   "source": [
    "categoryEncoded = oneHotEncode (df.category)\n",
    "countryEncoded = oneHotEncode (df.country)\n",
    "\n",
    "X_cat = pd.concat ([categoryEncoded, countryEncoded], axis=1)\n",
    "X_cat.head(5)\n"
   ]
  },
  {
   "cell_type": "markdown",
   "metadata": {},
   "source": [
    "Не пречи да видим как ще се справи с тази ограничена информация. Няма да търсим добри параметри, не очакваме да се справи\n",
    "блестящо."
   ]
  },
  {
   "cell_type": "code",
   "execution_count": 56,
   "metadata": {},
   "outputs": [
    {
     "name": "stdout",
     "output_type": "stream",
     "text": [
      "train score: 0.6936908517350158\n",
      "test score:  0.6263008514664143\n"
     ]
    }
   ],
   "source": [
    "X_train, X_test, y_train, y_test = train_test_split(X_cat, y, stratify=y, random_state=515)\n",
    "\n",
    "model = RandomForestClassifier(random_state=155).fit(X_train, y_train)\n",
    "print(\"train score:\", model.score(X_train, y_train))\n",
    "print(\"test score: \", model.score(X_test, y_test))"
   ]
  },
  {
   "cell_type": "markdown",
   "metadata": {},
   "source": [
    "И сега да добавим baseline модела. Също така установихме, че `year`, `duration` не са за пренепрегване. Няма да\n",
    "правим binning на duration понеже използваме random forest."
   ]
  },
  {
   "cell_type": "code",
   "execution_count": 57,
   "metadata": {},
   "outputs": [
    {
     "data": {
      "text/html": [
       "<div>\n",
       "<style scoped>\n",
       "    .dataframe tbody tr th:only-of-type {\n",
       "        vertical-align: middle;\n",
       "    }\n",
       "\n",
       "    .dataframe tbody tr th {\n",
       "        vertical-align: top;\n",
       "    }\n",
       "\n",
       "    .dataframe thead th {\n",
       "        text-align: right;\n",
       "    }\n",
       "</style>\n",
       "<table border=\"1\" class=\"dataframe\">\n",
       "  <thead>\n",
       "    <tr style=\"text-align: right;\">\n",
       "      <th></th>\n",
       "      <th>3D Printing</th>\n",
       "      <th>Academic</th>\n",
       "      <th>Accessories</th>\n",
       "      <th>Action</th>\n",
       "      <th>Animals</th>\n",
       "      <th>Animation</th>\n",
       "      <th>Anthologies</th>\n",
       "      <th>Apparel</th>\n",
       "      <th>Apps</th>\n",
       "      <th>Architecture</th>\n",
       "      <th>...</th>\n",
       "      <th>NZ</th>\n",
       "      <th>SE</th>\n",
       "      <th>SG</th>\n",
       "      <th>US</th>\n",
       "      <th>usd_goal_real</th>\n",
       "      <th>backers</th>\n",
       "      <th>goal_per_backer</th>\n",
       "      <th>year</th>\n",
       "      <th>duration</th>\n",
       "      <th>vacation</th>\n",
       "    </tr>\n",
       "  </thead>\n",
       "  <tbody>\n",
       "    <tr>\n",
       "      <th>0</th>\n",
       "      <td>0.0</td>\n",
       "      <td>0.0</td>\n",
       "      <td>0.0</td>\n",
       "      <td>0.0</td>\n",
       "      <td>0.0</td>\n",
       "      <td>0.0</td>\n",
       "      <td>0.0</td>\n",
       "      <td>0.0</td>\n",
       "      <td>0.0</td>\n",
       "      <td>0.0</td>\n",
       "      <td>...</td>\n",
       "      <td>0.0</td>\n",
       "      <td>0.0</td>\n",
       "      <td>0.0</td>\n",
       "      <td>1.0</td>\n",
       "      <td>30000.0</td>\n",
       "      <td>15</td>\n",
       "      <td>2000.000000</td>\n",
       "      <td>2017</td>\n",
       "      <td>60.041667</td>\n",
       "      <td>0.0</td>\n",
       "    </tr>\n",
       "    <tr>\n",
       "      <th>1</th>\n",
       "      <td>0.0</td>\n",
       "      <td>0.0</td>\n",
       "      <td>0.0</td>\n",
       "      <td>0.0</td>\n",
       "      <td>0.0</td>\n",
       "      <td>0.0</td>\n",
       "      <td>0.0</td>\n",
       "      <td>0.0</td>\n",
       "      <td>0.0</td>\n",
       "      <td>0.0</td>\n",
       "      <td>...</td>\n",
       "      <td>0.0</td>\n",
       "      <td>0.0</td>\n",
       "      <td>0.0</td>\n",
       "      <td>1.0</td>\n",
       "      <td>45000.0</td>\n",
       "      <td>3</td>\n",
       "      <td>15000.000000</td>\n",
       "      <td>2013</td>\n",
       "      <td>45.000000</td>\n",
       "      <td>0.0</td>\n",
       "    </tr>\n",
       "    <tr>\n",
       "      <th>2</th>\n",
       "      <td>0.0</td>\n",
       "      <td>0.0</td>\n",
       "      <td>0.0</td>\n",
       "      <td>0.0</td>\n",
       "      <td>0.0</td>\n",
       "      <td>0.0</td>\n",
       "      <td>0.0</td>\n",
       "      <td>0.0</td>\n",
       "      <td>0.0</td>\n",
       "      <td>0.0</td>\n",
       "      <td>...</td>\n",
       "      <td>0.0</td>\n",
       "      <td>0.0</td>\n",
       "      <td>0.0</td>\n",
       "      <td>1.0</td>\n",
       "      <td>5000.0</td>\n",
       "      <td>1</td>\n",
       "      <td>5000.000000</td>\n",
       "      <td>2012</td>\n",
       "      <td>29.958333</td>\n",
       "      <td>0.0</td>\n",
       "    </tr>\n",
       "    <tr>\n",
       "      <th>3</th>\n",
       "      <td>0.0</td>\n",
       "      <td>0.0</td>\n",
       "      <td>0.0</td>\n",
       "      <td>0.0</td>\n",
       "      <td>0.0</td>\n",
       "      <td>0.0</td>\n",
       "      <td>0.0</td>\n",
       "      <td>0.0</td>\n",
       "      <td>0.0</td>\n",
       "      <td>0.0</td>\n",
       "      <td>...</td>\n",
       "      <td>0.0</td>\n",
       "      <td>0.0</td>\n",
       "      <td>0.0</td>\n",
       "      <td>1.0</td>\n",
       "      <td>19500.0</td>\n",
       "      <td>14</td>\n",
       "      <td>1392.857143</td>\n",
       "      <td>2015</td>\n",
       "      <td>56.000000</td>\n",
       "      <td>1.0</td>\n",
       "    </tr>\n",
       "    <tr>\n",
       "      <th>4</th>\n",
       "      <td>0.0</td>\n",
       "      <td>0.0</td>\n",
       "      <td>0.0</td>\n",
       "      <td>0.0</td>\n",
       "      <td>0.0</td>\n",
       "      <td>0.0</td>\n",
       "      <td>0.0</td>\n",
       "      <td>0.0</td>\n",
       "      <td>0.0</td>\n",
       "      <td>0.0</td>\n",
       "      <td>...</td>\n",
       "      <td>0.0</td>\n",
       "      <td>0.0</td>\n",
       "      <td>0.0</td>\n",
       "      <td>1.0</td>\n",
       "      <td>50000.0</td>\n",
       "      <td>224</td>\n",
       "      <td>223.214286</td>\n",
       "      <td>2016</td>\n",
       "      <td>34.958333</td>\n",
       "      <td>0.0</td>\n",
       "    </tr>\n",
       "  </tbody>\n",
       "</table>\n",
       "<p>5 rows × 179 columns</p>\n",
       "</div>"
      ],
      "text/plain": [
       "   3D Printing  Academic  Accessories  Action  Animals  Animation  \\\n",
       "0          0.0       0.0          0.0     0.0      0.0        0.0   \n",
       "1          0.0       0.0          0.0     0.0      0.0        0.0   \n",
       "2          0.0       0.0          0.0     0.0      0.0        0.0   \n",
       "3          0.0       0.0          0.0     0.0      0.0        0.0   \n",
       "4          0.0       0.0          0.0     0.0      0.0        0.0   \n",
       "\n",
       "   Anthologies  Apparel  Apps  Architecture  ...   NZ   SE   SG   US  \\\n",
       "0          0.0      0.0   0.0           0.0  ...  0.0  0.0  0.0  1.0   \n",
       "1          0.0      0.0   0.0           0.0  ...  0.0  0.0  0.0  1.0   \n",
       "2          0.0      0.0   0.0           0.0  ...  0.0  0.0  0.0  1.0   \n",
       "3          0.0      0.0   0.0           0.0  ...  0.0  0.0  0.0  1.0   \n",
       "4          0.0      0.0   0.0           0.0  ...  0.0  0.0  0.0  1.0   \n",
       "\n",
       "   usd_goal_real  backers  goal_per_backer  year   duration  vacation  \n",
       "0        30000.0       15      2000.000000  2017  60.041667       0.0  \n",
       "1        45000.0        3     15000.000000  2013  45.000000       0.0  \n",
       "2         5000.0        1      5000.000000  2012  29.958333       0.0  \n",
       "3        19500.0       14      1392.857143  2015  56.000000       1.0  \n",
       "4        50000.0      224       223.214286  2016  34.958333       0.0  \n",
       "\n",
       "[5 rows x 179 columns]"
      ]
     },
     "execution_count": 57,
     "metadata": {},
     "output_type": "execute_result"
    }
   ],
   "source": [
    "X_cat = pd.concat ([X_cat, X_baseline], axis=1)\n",
    "X_cat['year'] = year\n",
    "X_cat['duration'] = duration\n",
    "X_cat['vacation'] = ((month==7) | (month==8) | (month==12)).astype(\"float\")\n",
    "\n",
    "X_cat.head(5)"
   ]
  },
  {
   "cell_type": "code",
   "execution_count": 58,
   "metadata": {},
   "outputs": [
    {
     "data": {
      "text/html": [
       "<div>\n",
       "<style scoped>\n",
       "    .dataframe tbody tr th:only-of-type {\n",
       "        vertical-align: middle;\n",
       "    }\n",
       "\n",
       "    .dataframe tbody tr th {\n",
       "        vertical-align: top;\n",
       "    }\n",
       "\n",
       "    .dataframe thead th {\n",
       "        text-align: right;\n",
       "    }\n",
       "</style>\n",
       "<table border=\"1\" class=\"dataframe\">\n",
       "  <thead>\n",
       "    <tr style=\"text-align: right;\">\n",
       "      <th></th>\n",
       "      <th>rank_test_score</th>\n",
       "      <th>mean_test_score</th>\n",
       "      <th>params</th>\n",
       "    </tr>\n",
       "  </thead>\n",
       "  <tbody>\n",
       "    <tr>\n",
       "      <th>31</th>\n",
       "      <td>1</td>\n",
       "      <td>0.912231</td>\n",
       "      <td>{'max_depth': 15, 'n_estimators': 30}</td>\n",
       "    </tr>\n",
       "    <tr>\n",
       "      <th>32</th>\n",
       "      <td>2</td>\n",
       "      <td>0.910811</td>\n",
       "      <td>{'max_depth': 15, 'n_estimators': 50}</td>\n",
       "    </tr>\n",
       "    <tr>\n",
       "      <th>28</th>\n",
       "      <td>3</td>\n",
       "      <td>0.910575</td>\n",
       "      <td>{'max_depth': 12, 'n_estimators': 70}</td>\n",
       "    </tr>\n",
       "    <tr>\n",
       "      <th>33</th>\n",
       "      <td>4</td>\n",
       "      <td>0.910102</td>\n",
       "      <td>{'max_depth': 15, 'n_estimators': 70}</td>\n",
       "    </tr>\n",
       "    <tr>\n",
       "      <th>27</th>\n",
       "      <td>5</td>\n",
       "      <td>0.909865</td>\n",
       "      <td>{'max_depth': 12, 'n_estimators': 50}</td>\n",
       "    </tr>\n",
       "    <tr>\n",
       "      <th>26</th>\n",
       "      <td>6</td>\n",
       "      <td>0.909155</td>\n",
       "      <td>{'max_depth': 12, 'n_estimators': 30}</td>\n",
       "    </tr>\n",
       "    <tr>\n",
       "      <th>24</th>\n",
       "      <td>6</td>\n",
       "      <td>0.909155</td>\n",
       "      <td>{'max_depth': 10, 'n_estimators': 100}</td>\n",
       "    </tr>\n",
       "    <tr>\n",
       "      <th>23</th>\n",
       "      <td>6</td>\n",
       "      <td>0.909155</td>\n",
       "      <td>{'max_depth': 10, 'n_estimators': 70}</td>\n",
       "    </tr>\n",
       "    <tr>\n",
       "      <th>29</th>\n",
       "      <td>9</td>\n",
       "      <td>0.908919</td>\n",
       "      <td>{'max_depth': 12, 'n_estimators': 100}</td>\n",
       "    </tr>\n",
       "    <tr>\n",
       "      <th>19</th>\n",
       "      <td>9</td>\n",
       "      <td>0.908919</td>\n",
       "      <td>{'max_depth': 8, 'n_estimators': 100}</td>\n",
       "    </tr>\n",
       "  </tbody>\n",
       "</table>\n",
       "</div>"
      ],
      "text/plain": [
       "    rank_test_score  mean_test_score                                  params\n",
       "31                1         0.912231   {'max_depth': 15, 'n_estimators': 30}\n",
       "32                2         0.910811   {'max_depth': 15, 'n_estimators': 50}\n",
       "28                3         0.910575   {'max_depth': 12, 'n_estimators': 70}\n",
       "33                4         0.910102   {'max_depth': 15, 'n_estimators': 70}\n",
       "27                5         0.909865   {'max_depth': 12, 'n_estimators': 50}\n",
       "26                6         0.909155   {'max_depth': 12, 'n_estimators': 30}\n",
       "24                6         0.909155  {'max_depth': 10, 'n_estimators': 100}\n",
       "23                6         0.909155   {'max_depth': 10, 'n_estimators': 70}\n",
       "29                9         0.908919  {'max_depth': 12, 'n_estimators': 100}\n",
       "19                9         0.908919   {'max_depth': 8, 'n_estimators': 100}"
      ]
     },
     "execution_count": 58,
     "metadata": {},
     "output_type": "execute_result"
    }
   ],
   "source": [
    "gridSearchRf (X_cat, y)"
   ]
  },
  {
   "cell_type": "code",
   "execution_count": 59,
   "metadata": {},
   "outputs": [
    {
     "name": "stdout",
     "output_type": "stream",
     "text": [
      "train score: 0.9542586750788643\n",
      "test score:  0.9091769157994324\n"
     ]
    }
   ],
   "source": [
    "X_train, X_test, y_train, y_test = train_test_split(X_cat, y, stratify=y, random_state=515)\n",
    "model = RandomForestClassifier(max_depth=15, n_estimators=100, random_state=155).fit(X_train, y_train)\n",
    "print(\"train score:\", model.score(X_train, y_train))\n",
    "print(\"test score: \", model.score(X_test, y_test))"
   ]
  },
  {
   "cell_type": "markdown",
   "metadata": {},
   "source": [
    "Малко по-добре. Но все още не виждаме осезаемо подобрение.\n",
    "\n",
    "Да разгледаме feature importance. Това ще ни помогне да разберем какво прави модела и в частност, какво не прави добре, за да\n",
    "го подобрим. Но пък имаме доста feature-и и може нищо да не научим."
   ]
  },
  {
   "cell_type": "code",
   "execution_count": 60,
   "metadata": {},
   "outputs": [
    {
     "data": {
      "image/png": "[encoded data removed]",
      "text/plain": [
       "<Figure size 720x720 with 1 Axes>"
      ]
     },
     "metadata": {
      "needs_background": "light"
     },
     "output_type": "display_data"
    }
   ],
   "source": [
    "def random_forest_features(model, X, top=-1):\n",
    "    importances = model.feature_importances_\n",
    "    std = np.std([model.feature_importances_ for tree in model.estimators_],\n",
    "                 axis=0)\n",
    "    indices = np.argsort(importances)[::-1][:top]\n",
    "    \n",
    "    plt.figure(figsize=(10, 10))\n",
    "    plt.title(\"Feature importances\")\n",
    "    plt.bar(range(indices.size), importances[indices], color=\"r\", yerr=std[indices], align=\"center\")\n",
    "    plt.xticks(range(indices.size), X.columns, rotation='vertical')\n",
    "    plt.xlim([-1, indices.size])\n",
    "    plt.show()\n",
    "\n",
    "random_forest_features(model, X_cat, top=20)"
   ]
  },
  {
   "cell_type": "markdown",
   "metadata": {},
   "source": [
    "Категорията на проекта играе най-голяма роля. Това противоречи на предишния модел, който не се справи много добре, използвайки само категорията. Нищо не научихме. Да видим и confusion matrix."
   ]
  },
  {
   "cell_type": "code",
   "execution_count": 61,
   "metadata": {},
   "outputs": [
    {
     "data": {
      "image/png": "[encoded data removed]",
      "text/plain": [
       "<Figure size 648x504 with 2 Axes>"
      ]
     },
     "metadata": {
      "needs_background": "light"
     },
     "output_type": "display_data"
    }
   ],
   "source": [
    "import itertools\n",
    "from sklearn.metrics import confusion_matrix, accuracy_score\n",
    "\n",
    "def plot_confusion_matrix(y_true, y_pred, classes,\n",
    "                          normalize=False,\n",
    "                          title='Confusion matrix',\n",
    "                          cmap=plt.cm.Blues,\n",
    "                          figsize=(9, 7)):\n",
    "    matrix = confusion_matrix(y_true, y_pred)\n",
    "\n",
    "    if normalize:\n",
    "        matrix = matrix.astype('float') / matrix.sum(axis=1)[:, np.newaxis]\n",
    "\n",
    "    plt.figure(figsize=figsize)\n",
    "    plt.imshow(matrix, interpolation='nearest', cmap=cmap)\n",
    "    plt.title(title)\n",
    "    plt.colorbar()\n",
    "\n",
    "    tick_marks = np.arange(len(classes))\n",
    "    plt.xticks(tick_marks, classes, rotation=45)\n",
    "    plt.yticks(tick_marks, classes)\n",
    "\n",
    "    fmt = '.2f' if normalize else 'd'\n",
    "    thresh = matrix.max() / 2.\n",
    "    for i, j in itertools.product(range(matrix.shape[0]), range(matrix.shape[1])):\n",
    "        plt.text(j, i, format(matrix[i, j], fmt),\n",
    "                 horizontalalignment=\"center\",\n",
    "                 size=int((figsize[0] / 10) * 38),\n",
    "                 color=\"white\" if matrix[i, j] > thresh else \"black\")\n",
    "\n",
    "    plt.tight_layout()\n",
    "    plt.ylabel('True label')\n",
    "    plt.xlabel('Predicted label')\n",
    "    \n",
    "plot_confusion_matrix(y_test, model.predict(X_test), classes=['failure', 'success'])"
   ]
  },
  {
   "cell_type": "markdown",
   "metadata": {},
   "source": [
    "Изглежда балансирано.\n",
    "\n",
    "## logistic regression model\n",
    "\n",
    "Логистичната регресия може да даде по-добри резултати. Да пробваме. За целта обаче трябва да логаритмуваме числените\n",
    "feature-и -- всички те показаха доста голям heavy tail distribution. Също така ще трябва да bin-нем duration, понеже\n",
    "както видяхме проект с продължителност 30 дни не е два пъти по-зле от проект с продължителност 60 дни. За binning ще използваме\n",
    "`[1, 30]`, `[31,  45]`, `[46, 60]`, `[61, inf)` като резултат от проучването ни."
   ]
  },
  {
   "cell_type": "code",
   "execution_count": 62,
   "metadata": {},
   "outputs": [
    {
     "data": {
      "text/html": [
       "<div>\n",
       "<style scoped>\n",
       "    .dataframe tbody tr th:only-of-type {\n",
       "        vertical-align: middle;\n",
       "    }\n",
       "\n",
       "    .dataframe tbody tr th {\n",
       "        vertical-align: top;\n",
       "    }\n",
       "\n",
       "    .dataframe thead th {\n",
       "        text-align: right;\n",
       "    }\n",
       "</style>\n",
       "<table border=\"1\" class=\"dataframe\">\n",
       "  <thead>\n",
       "    <tr style=\"text-align: right;\">\n",
       "      <th></th>\n",
       "      <th>3D Printing</th>\n",
       "      <th>Academic</th>\n",
       "      <th>Accessories</th>\n",
       "      <th>Action</th>\n",
       "      <th>Animals</th>\n",
       "      <th>Animation</th>\n",
       "      <th>Anthologies</th>\n",
       "      <th>Apparel</th>\n",
       "      <th>Apps</th>\n",
       "      <th>Architecture</th>\n",
       "      <th>...</th>\n",
       "      <th>usd_goal_real</th>\n",
       "      <th>backers</th>\n",
       "      <th>goal_per_backer</th>\n",
       "      <th>year</th>\n",
       "      <th>duration</th>\n",
       "      <th>vacation</th>\n",
       "      <th>duration_between_months</th>\n",
       "      <th>duration_less_month</th>\n",
       "      <th>duration_too_long</th>\n",
       "      <th>duration_two_months</th>\n",
       "    </tr>\n",
       "  </thead>\n",
       "  <tbody>\n",
       "    <tr>\n",
       "      <th>0</th>\n",
       "      <td>0.0</td>\n",
       "      <td>0.0</td>\n",
       "      <td>0.0</td>\n",
       "      <td>0.0</td>\n",
       "      <td>0.0</td>\n",
       "      <td>0.0</td>\n",
       "      <td>0.0</td>\n",
       "      <td>0.0</td>\n",
       "      <td>0.0</td>\n",
       "      <td>0.0</td>\n",
       "      <td>...</td>\n",
       "      <td>10.308953</td>\n",
       "      <td>2.708050</td>\n",
       "      <td>7.600902</td>\n",
       "      <td>2017</td>\n",
       "      <td>60.041667</td>\n",
       "      <td>0.0</td>\n",
       "      <td>0.0</td>\n",
       "      <td>0.0</td>\n",
       "      <td>1.0</td>\n",
       "      <td>0.0</td>\n",
       "    </tr>\n",
       "    <tr>\n",
       "      <th>1</th>\n",
       "      <td>0.0</td>\n",
       "      <td>0.0</td>\n",
       "      <td>0.0</td>\n",
       "      <td>0.0</td>\n",
       "      <td>0.0</td>\n",
       "      <td>0.0</td>\n",
       "      <td>0.0</td>\n",
       "      <td>0.0</td>\n",
       "      <td>0.0</td>\n",
       "      <td>0.0</td>\n",
       "      <td>...</td>\n",
       "      <td>10.714418</td>\n",
       "      <td>1.098612</td>\n",
       "      <td>9.615805</td>\n",
       "      <td>2013</td>\n",
       "      <td>45.000000</td>\n",
       "      <td>0.0</td>\n",
       "      <td>1.0</td>\n",
       "      <td>0.0</td>\n",
       "      <td>0.0</td>\n",
       "      <td>0.0</td>\n",
       "    </tr>\n",
       "    <tr>\n",
       "      <th>2</th>\n",
       "      <td>0.0</td>\n",
       "      <td>0.0</td>\n",
       "      <td>0.0</td>\n",
       "      <td>0.0</td>\n",
       "      <td>0.0</td>\n",
       "      <td>0.0</td>\n",
       "      <td>0.0</td>\n",
       "      <td>0.0</td>\n",
       "      <td>0.0</td>\n",
       "      <td>0.0</td>\n",
       "      <td>...</td>\n",
       "      <td>8.517193</td>\n",
       "      <td>0.000000</td>\n",
       "      <td>8.517193</td>\n",
       "      <td>2012</td>\n",
       "      <td>29.958333</td>\n",
       "      <td>0.0</td>\n",
       "      <td>0.0</td>\n",
       "      <td>1.0</td>\n",
       "      <td>0.0</td>\n",
       "      <td>0.0</td>\n",
       "    </tr>\n",
       "    <tr>\n",
       "      <th>3</th>\n",
       "      <td>0.0</td>\n",
       "      <td>0.0</td>\n",
       "      <td>0.0</td>\n",
       "      <td>0.0</td>\n",
       "      <td>0.0</td>\n",
       "      <td>0.0</td>\n",
       "      <td>0.0</td>\n",
       "      <td>0.0</td>\n",
       "      <td>0.0</td>\n",
       "      <td>0.0</td>\n",
       "      <td>...</td>\n",
       "      <td>9.878170</td>\n",
       "      <td>2.639057</td>\n",
       "      <td>7.239112</td>\n",
       "      <td>2015</td>\n",
       "      <td>56.000000</td>\n",
       "      <td>1.0</td>\n",
       "      <td>0.0</td>\n",
       "      <td>0.0</td>\n",
       "      <td>0.0</td>\n",
       "      <td>1.0</td>\n",
       "    </tr>\n",
       "    <tr>\n",
       "      <th>4</th>\n",
       "      <td>0.0</td>\n",
       "      <td>0.0</td>\n",
       "      <td>0.0</td>\n",
       "      <td>0.0</td>\n",
       "      <td>0.0</td>\n",
       "      <td>0.0</td>\n",
       "      <td>0.0</td>\n",
       "      <td>0.0</td>\n",
       "      <td>0.0</td>\n",
       "      <td>0.0</td>\n",
       "      <td>...</td>\n",
       "      <td>10.819778</td>\n",
       "      <td>5.411646</td>\n",
       "      <td>5.408132</td>\n",
       "      <td>2016</td>\n",
       "      <td>34.958333</td>\n",
       "      <td>0.0</td>\n",
       "      <td>1.0</td>\n",
       "      <td>0.0</td>\n",
       "      <td>0.0</td>\n",
       "      <td>0.0</td>\n",
       "    </tr>\n",
       "  </tbody>\n",
       "</table>\n",
       "<p>5 rows × 183 columns</p>\n",
       "</div>"
      ],
      "text/plain": [
       "   3D Printing  Academic  Accessories  Action  Animals  Animation  \\\n",
       "0          0.0       0.0          0.0     0.0      0.0        0.0   \n",
       "1          0.0       0.0          0.0     0.0      0.0        0.0   \n",
       "2          0.0       0.0          0.0     0.0      0.0        0.0   \n",
       "3          0.0       0.0          0.0     0.0      0.0        0.0   \n",
       "4          0.0       0.0          0.0     0.0      0.0        0.0   \n",
       "\n",
       "   Anthologies  Apparel  Apps  Architecture  ...  usd_goal_real   backers  \\\n",
       "0          0.0      0.0   0.0           0.0  ...      10.308953  2.708050   \n",
       "1          0.0      0.0   0.0           0.0  ...      10.714418  1.098612   \n",
       "2          0.0      0.0   0.0           0.0  ...       8.517193  0.000000   \n",
       "3          0.0      0.0   0.0           0.0  ...       9.878170  2.639057   \n",
       "4          0.0      0.0   0.0           0.0  ...      10.819778  5.411646   \n",
       "\n",
       "   goal_per_backer  year   duration  vacation  duration_between_months  \\\n",
       "0         7.600902  2017  60.041667       0.0                      0.0   \n",
       "1         9.615805  2013  45.000000       0.0                      1.0   \n",
       "2         8.517193  2012  29.958333       0.0                      0.0   \n",
       "3         7.239112  2015  56.000000       1.0                      0.0   \n",
       "4         5.408132  2016  34.958333       0.0                      1.0   \n",
       "\n",
       "   duration_less_month  duration_too_long  duration_two_months  \n",
       "0                  0.0                1.0                  0.0  \n",
       "1                  0.0                0.0                  0.0  \n",
       "2                  1.0                0.0                  0.0  \n",
       "3                  0.0                0.0                  1.0  \n",
       "4                  0.0                0.0                  0.0  \n",
       "\n",
       "[5 rows x 183 columns]"
      ]
     },
     "execution_count": 62,
     "metadata": {},
     "output_type": "execute_result"
    }
   ],
   "source": [
    "X_log = X_cat.copy()\n",
    "X_log.goal_per_backer = np.log(X_log.goal_per_backer)\n",
    "X_log.backers = np.log(X_log.backers)\n",
    "X_log.usd_goal_real = np.log(X_log.usd_goal_real)\n",
    "\n",
    "X_log.drop(columns=['duration'])\n",
    "durationBinned = pd.cut(duration, bins=[-1, 30, 45, 60, duration.max()],\n",
    "                        labels=[\"duration_less_month\", \"duration_between_months\", \"duration_two_months\", \"duration_too_long\"])\n",
    "durationEncoded = oneHotEncode (durationBinned)\n",
    "X_log = pd.concat ([X_log, durationEncoded], axis=1)\n",
    "X_log.head(5)"
   ]
  },
  {
   "cell_type": "code",
   "execution_count": 63,
   "metadata": {},
   "outputs": [
    {
     "name": "stdout",
     "output_type": "stream",
     "text": [
      "train score: 0.9252365930599369\n",
      "test score: 0.9176915799432356\n"
     ]
    }
   ],
   "source": [
    "from sklearn.linear_model import LogisticRegression\n",
    "\n",
    "X_train, X_test, y_train, y_test = train_test_split(X_log, y, stratify=y, random_state=515)\n",
    "model = LogisticRegression().fit(X_train, y_train)\n",
    "\n",
    "print(\"train score:\", model.score(X_train, y_train))\n",
    "print(\"test score:\", model.score(X_test, y_test))"
   ]
  },
  {
   "cell_type": "markdown",
   "metadata": {},
   "source": [
    "Абсолютно същия резултат. Тъжно. Да разгледаме feature importance."
   ]
  },
  {
   "cell_type": "code",
   "execution_count": 64,
   "metadata": {},
   "outputs": [
    {
     "data": {
      "image/png": "[encoded data removed]",
      "text/plain": [
       "<Figure size 864x576 with 1 Axes>"
      ]
     },
     "metadata": {
      "needs_background": "light"
     },
     "output_type": "display_data"
    }
   ],
   "source": [
    "def logistic_regression_features(X, model, top=-1):\n",
    "    indices = np.argsort(np.absolute(model.coef_[0]))[::-1][:top]\n",
    "    plt.figure(figsize=(12,8))\n",
    "    barplot = sns.barplot(x=X.columns[indices], y=model.coef_[0][indices], orient='vertical')\n",
    "    plt.setp(barplot.get_xticklabels(), rotation=90)\n",
    "    plt.grid(True)\n",
    "    \n",
    "logistic_regression_features(X_log, model, top=20)"
   ]
  },
  {
   "cell_type": "markdown",
   "metadata": {},
   "source": [
    "Тук има повече смисъл. Виждаме най-важните feature-и имат голямо тегло, при това с правилна пропориця."
   ]
  },
  {
   "cell_type": "code",
   "execution_count": 65,
   "metadata": {},
   "outputs": [
    {
     "data": {
      "image/png": "[encoded data removed]",
      "text/plain": [
       "<Figure size 648x504 with 2 Axes>"
      ]
     },
     "metadata": {
      "needs_background": "light"
     },
     "output_type": "display_data"
    }
   ],
   "source": [
    "plot_confusion_matrix(y_test, model.predict(X_test), classes=['failure', 'success'])"
   ]
  },
  {
   "cell_type": "markdown",
   "metadata": {},
   "source": [
    "И този модел изглежда симетричен.\n",
    "\n",
    "Сега да разгледаме колко уверени са в себе си моделите.\n",
    "\n",
    "## model probability"
   ]
  },
  {
   "cell_type": "code",
   "execution_count": 66,
   "metadata": {},
   "outputs": [
    {
     "data": {
      "text/html": [
       "<div>\n",
       "<style scoped>\n",
       "    .dataframe tbody tr th:only-of-type {\n",
       "        vertical-align: middle;\n",
       "    }\n",
       "\n",
       "    .dataframe tbody tr th {\n",
       "        vertical-align: top;\n",
       "    }\n",
       "\n",
       "    .dataframe thead th {\n",
       "        text-align: right;\n",
       "    }\n",
       "</style>\n",
       "<table border=\"1\" class=\"dataframe\">\n",
       "  <thead>\n",
       "    <tr style=\"text-align: right;\">\n",
       "      <th></th>\n",
       "      <th>ID</th>\n",
       "      <th>name</th>\n",
       "      <th>category</th>\n",
       "      <th>main_category</th>\n",
       "      <th>currency</th>\n",
       "      <th>deadline</th>\n",
       "      <th>goal</th>\n",
       "      <th>launched</th>\n",
       "      <th>pledged</th>\n",
       "      <th>backers</th>\n",
       "      <th>country</th>\n",
       "      <th>usd pledged</th>\n",
       "      <th>usd_pledged_real</th>\n",
       "      <th>usd_goal_real</th>\n",
       "      <th>successful</th>\n",
       "      <th>prob_failure</th>\n",
       "      <th>prob_success</th>\n",
       "      <th>guess</th>\n",
       "      <th>goal_per_backer</th>\n",
       "    </tr>\n",
       "  </thead>\n",
       "  <tbody>\n",
       "    <tr>\n",
       "      <th>4033</th>\n",
       "      <td>1024301544</td>\n",
       "      <td>Season 1 of NYC Glitters</td>\n",
       "      <td>Webseries</td>\n",
       "      <td>Film &amp; Video</td>\n",
       "      <td>USD</td>\n",
       "      <td>2011-12-01</td>\n",
       "      <td>6000.0</td>\n",
       "      <td>2011-10-14 20:16:11</td>\n",
       "      <td>1336.00</td>\n",
       "      <td>59</td>\n",
       "      <td>US</td>\n",
       "      <td>1336.00</td>\n",
       "      <td>1336.00</td>\n",
       "      <td>6000.00</td>\n",
       "      <td>False</td>\n",
       "      <td>0.334625</td>\n",
       "      <td>0.665375</td>\n",
       "      <td>True</td>\n",
       "      <td>101.694915</td>\n",
       "    </tr>\n",
       "    <tr>\n",
       "      <th>2454</th>\n",
       "      <td>1015025906</td>\n",
       "      <td>The Realize The Dream Project! A NEW EP and my...</td>\n",
       "      <td>Music</td>\n",
       "      <td>Music</td>\n",
       "      <td>USD</td>\n",
       "      <td>2013-07-21</td>\n",
       "      <td>11000.0</td>\n",
       "      <td>2013-06-21 14:00:44</td>\n",
       "      <td>11415.44</td>\n",
       "      <td>267</td>\n",
       "      <td>US</td>\n",
       "      <td>11415.44</td>\n",
       "      <td>11415.44</td>\n",
       "      <td>11000.00</td>\n",
       "      <td>True</td>\n",
       "      <td>0.010113</td>\n",
       "      <td>0.989887</td>\n",
       "      <td>True</td>\n",
       "      <td>41.198502</td>\n",
       "    </tr>\n",
       "    <tr>\n",
       "      <th>2466</th>\n",
       "      <td>1015075727</td>\n",
       "      <td>mariachi madness</td>\n",
       "      <td>Comedy</td>\n",
       "      <td>Film &amp; Video</td>\n",
       "      <td>USD</td>\n",
       "      <td>2016-07-27</td>\n",
       "      <td>4250.0</td>\n",
       "      <td>2016-06-27 23:53:23</td>\n",
       "      <td>4367.00</td>\n",
       "      <td>74</td>\n",
       "      <td>US</td>\n",
       "      <td>2554.00</td>\n",
       "      <td>4367.00</td>\n",
       "      <td>4250.00</td>\n",
       "      <td>True</td>\n",
       "      <td>0.092866</td>\n",
       "      <td>0.907134</td>\n",
       "      <td>True</td>\n",
       "      <td>57.432432</td>\n",
       "    </tr>\n",
       "    <tr>\n",
       "      <th>1593</th>\n",
       "      <td>1009713929</td>\n",
       "      <td>Grump's Quest</td>\n",
       "      <td>Video Games</td>\n",
       "      <td>Games</td>\n",
       "      <td>GBP</td>\n",
       "      <td>2013-03-29</td>\n",
       "      <td>450000.0</td>\n",
       "      <td>2013-02-27 16:02:18</td>\n",
       "      <td>15800.00</td>\n",
       "      <td>40</td>\n",
       "      <td>GB</td>\n",
       "      <td>24007.20</td>\n",
       "      <td>24086.10</td>\n",
       "      <td>685996.52</td>\n",
       "      <td>False</td>\n",
       "      <td>0.999956</td>\n",
       "      <td>0.000044</td>\n",
       "      <td>False</td>\n",
       "      <td>11250.000000</td>\n",
       "    </tr>\n",
       "    <tr>\n",
       "      <th>60</th>\n",
       "      <td>1000260691</td>\n",
       "      <td>Gizbee™ Unlimited Removable Storage for Your T...</td>\n",
       "      <td>Gadgets</td>\n",
       "      <td>Technology</td>\n",
       "      <td>USD</td>\n",
       "      <td>2016-03-25</td>\n",
       "      <td>87000.0</td>\n",
       "      <td>2016-02-29 20:30:27</td>\n",
       "      <td>2030.00</td>\n",
       "      <td>15</td>\n",
       "      <td>US</td>\n",
       "      <td>2030.00</td>\n",
       "      <td>2030.00</td>\n",
       "      <td>87000.00</td>\n",
       "      <td>False</td>\n",
       "      <td>0.999700</td>\n",
       "      <td>0.000300</td>\n",
       "      <td>False</td>\n",
       "      <td>5800.000000</td>\n",
       "    </tr>\n",
       "  </tbody>\n",
       "</table>\n",
       "</div>"
      ],
      "text/plain": [
       "              ID                                               name  \\\n",
       "4033  1024301544                           Season 1 of NYC Glitters   \n",
       "2454  1015025906  The Realize The Dream Project! A NEW EP and my...   \n",
       "2466  1015075727                                   mariachi madness   \n",
       "1593  1009713929                                      Grump's Quest   \n",
       "60    1000260691  Gizbee™ Unlimited Removable Storage for Your T...   \n",
       "\n",
       "         category main_category currency    deadline      goal  \\\n",
       "4033    Webseries  Film & Video      USD  2011-12-01    6000.0   \n",
       "2454        Music         Music      USD  2013-07-21   11000.0   \n",
       "2466       Comedy  Film & Video      USD  2016-07-27    4250.0   \n",
       "1593  Video Games         Games      GBP  2013-03-29  450000.0   \n",
       "60        Gadgets    Technology      USD  2016-03-25   87000.0   \n",
       "\n",
       "                 launched   pledged  backers country  usd pledged  \\\n",
       "4033  2011-10-14 20:16:11   1336.00       59      US      1336.00   \n",
       "2454  2013-06-21 14:00:44  11415.44      267      US     11415.44   \n",
       "2466  2016-06-27 23:53:23   4367.00       74      US      2554.00   \n",
       "1593  2013-02-27 16:02:18  15800.00       40      GB     24007.20   \n",
       "60    2016-02-29 20:30:27   2030.00       15      US      2030.00   \n",
       "\n",
       "      usd_pledged_real  usd_goal_real  successful  prob_failure  prob_success  \\\n",
       "4033           1336.00        6000.00       False      0.334625      0.665375   \n",
       "2454          11415.44       11000.00        True      0.010113      0.989887   \n",
       "2466           4367.00        4250.00        True      0.092866      0.907134   \n",
       "1593          24086.10      685996.52       False      0.999956      0.000044   \n",
       "60             2030.00       87000.00       False      0.999700      0.000300   \n",
       "\n",
       "      guess  goal_per_backer  \n",
       "4033   True       101.694915  \n",
       "2454   True        41.198502  \n",
       "2466   True        57.432432  \n",
       "1593  False     11250.000000  \n",
       "60    False      5800.000000  "
      ]
     },
     "execution_count": 66,
     "metadata": {},
     "output_type": "execute_result"
    }
   ],
   "source": [
    "def probaDataFrame (X_test, model):\n",
    "    proba = pd.DataFrame (data=model.predict_proba(X_test),\n",
    "                          columns=['prob_failure', 'prob_success'], index=X_test.index)\n",
    "    proba['guess'] = model.predict(X_test)\n",
    "    proba = pd.concat ([df.iloc[proba.index], proba], axis=1)\n",
    "    proba = proba.assign(goal_per_backer=lambda x: x.goal / x.backers)\n",
    "    return proba\n",
    "\n",
    "log_proba = probaDataFrame(X_test, model)\n",
    "log_proba.head(5)"
   ]
  },
  {
   "cell_type": "code",
   "execution_count": 67,
   "metadata": {},
   "outputs": [
    {
     "data": {
      "text/html": [
       "<div>\n",
       "<style scoped>\n",
       "    .dataframe tbody tr th:only-of-type {\n",
       "        vertical-align: middle;\n",
       "    }\n",
       "\n",
       "    .dataframe tbody tr th {\n",
       "        vertical-align: top;\n",
       "    }\n",
       "\n",
       "    .dataframe thead th {\n",
       "        text-align: right;\n",
       "    }\n",
       "</style>\n",
       "<table border=\"1\" class=\"dataframe\">\n",
       "  <thead>\n",
       "    <tr style=\"text-align: right;\">\n",
       "      <th></th>\n",
       "      <th>ID</th>\n",
       "      <th>name</th>\n",
       "      <th>category</th>\n",
       "      <th>main_category</th>\n",
       "      <th>currency</th>\n",
       "      <th>deadline</th>\n",
       "      <th>goal</th>\n",
       "      <th>launched</th>\n",
       "      <th>pledged</th>\n",
       "      <th>backers</th>\n",
       "      <th>country</th>\n",
       "      <th>usd pledged</th>\n",
       "      <th>usd_pledged_real</th>\n",
       "      <th>usd_goal_real</th>\n",
       "      <th>successful</th>\n",
       "      <th>prob_failure</th>\n",
       "      <th>prob_success</th>\n",
       "      <th>guess</th>\n",
       "      <th>goal_per_backer</th>\n",
       "    </tr>\n",
       "  </thead>\n",
       "  <tbody>\n",
       "    <tr>\n",
       "      <th>4033</th>\n",
       "      <td>1024301544</td>\n",
       "      <td>Season 1 of NYC Glitters</td>\n",
       "      <td>Webseries</td>\n",
       "      <td>Film &amp; Video</td>\n",
       "      <td>USD</td>\n",
       "      <td>2011-12-01</td>\n",
       "      <td>6000.0</td>\n",
       "      <td>2011-10-14 20:16:11</td>\n",
       "      <td>1336.00</td>\n",
       "      <td>59</td>\n",
       "      <td>US</td>\n",
       "      <td>1336.00</td>\n",
       "      <td>1336.00</td>\n",
       "      <td>6000.00</td>\n",
       "      <td>False</td>\n",
       "      <td>0.334625</td>\n",
       "      <td>0.665375</td>\n",
       "      <td>True</td>\n",
       "      <td>101.694915</td>\n",
       "    </tr>\n",
       "    <tr>\n",
       "      <th>2680</th>\n",
       "      <td>1016332080</td>\n",
       "      <td>The Hinckley Brothers Are Making A New Record!</td>\n",
       "      <td>Country &amp; Folk</td>\n",
       "      <td>Music</td>\n",
       "      <td>USD</td>\n",
       "      <td>2015-10-17</td>\n",
       "      <td>30000.0</td>\n",
       "      <td>2015-09-17 17:25:45</td>\n",
       "      <td>30395.01</td>\n",
       "      <td>74</td>\n",
       "      <td>US</td>\n",
       "      <td>30395.01</td>\n",
       "      <td>30395.01</td>\n",
       "      <td>30000.00</td>\n",
       "      <td>True</td>\n",
       "      <td>0.671047</td>\n",
       "      <td>0.328953</td>\n",
       "      <td>False</td>\n",
       "      <td>405.405405</td>\n",
       "    </tr>\n",
       "    <tr>\n",
       "      <th>2747</th>\n",
       "      <td>1016781421</td>\n",
       "      <td>Fantasy Funding</td>\n",
       "      <td>Children's Books</td>\n",
       "      <td>Publishing</td>\n",
       "      <td>GBP</td>\n",
       "      <td>2015-10-02</td>\n",
       "      <td>675.0</td>\n",
       "      <td>2015-08-13 14:54:48</td>\n",
       "      <td>236.00</td>\n",
       "      <td>16</td>\n",
       "      <td>GB</td>\n",
       "      <td>367.13</td>\n",
       "      <td>357.94</td>\n",
       "      <td>1023.78</td>\n",
       "      <td>False</td>\n",
       "      <td>0.308950</td>\n",
       "      <td>0.691050</td>\n",
       "      <td>True</td>\n",
       "      <td>42.187500</td>\n",
       "    </tr>\n",
       "    <tr>\n",
       "      <th>2345</th>\n",
       "      <td>1014315497</td>\n",
       "      <td>Kickstart our Root Cellar. Feed our community!</td>\n",
       "      <td>Farms</td>\n",
       "      <td>Food</td>\n",
       "      <td>USD</td>\n",
       "      <td>2015-07-15</td>\n",
       "      <td>25000.0</td>\n",
       "      <td>2015-06-15 15:00:31</td>\n",
       "      <td>13412.00</td>\n",
       "      <td>173</td>\n",
       "      <td>US</td>\n",
       "      <td>13412.00</td>\n",
       "      <td>13412.00</td>\n",
       "      <td>25000.00</td>\n",
       "      <td>False</td>\n",
       "      <td>0.186031</td>\n",
       "      <td>0.813969</td>\n",
       "      <td>True</td>\n",
       "      <td>144.508671</td>\n",
       "    </tr>\n",
       "    <tr>\n",
       "      <th>3280</th>\n",
       "      <td>1019959738</td>\n",
       "      <td>\"Welcome to Unity\" Booster Club (Canceled)</td>\n",
       "      <td>Documentary</td>\n",
       "      <td>Film &amp; Video</td>\n",
       "      <td>USD</td>\n",
       "      <td>2014-07-05</td>\n",
       "      <td>30000.0</td>\n",
       "      <td>2014-05-17 02:56:12</td>\n",
       "      <td>4932.70</td>\n",
       "      <td>109</td>\n",
       "      <td>US</td>\n",
       "      <td>4932.70</td>\n",
       "      <td>4932.70</td>\n",
       "      <td>30000.00</td>\n",
       "      <td>False</td>\n",
       "      <td>0.371332</td>\n",
       "      <td>0.628668</td>\n",
       "      <td>True</td>\n",
       "      <td>275.229358</td>\n",
       "    </tr>\n",
       "    <tr>\n",
       "      <th>1115</th>\n",
       "      <td>1006835138</td>\n",
       "      <td>Oh, Fudge!</td>\n",
       "      <td>Food</td>\n",
       "      <td>Food</td>\n",
       "      <td>USD</td>\n",
       "      <td>2011-11-16</td>\n",
       "      <td>5000.0</td>\n",
       "      <td>2011-09-17 03:51:54</td>\n",
       "      <td>1440.55</td>\n",
       "      <td>63</td>\n",
       "      <td>US</td>\n",
       "      <td>1440.55</td>\n",
       "      <td>1440.55</td>\n",
       "      <td>5000.00</td>\n",
       "      <td>False</td>\n",
       "      <td>0.306168</td>\n",
       "      <td>0.693832</td>\n",
       "      <td>True</td>\n",
       "      <td>79.365079</td>\n",
       "    </tr>\n",
       "    <tr>\n",
       "      <th>1346</th>\n",
       "      <td>1008111784</td>\n",
       "      <td>Megan Swansen Spring 2013</td>\n",
       "      <td>Fashion</td>\n",
       "      <td>Fashion</td>\n",
       "      <td>USD</td>\n",
       "      <td>2012-09-30</td>\n",
       "      <td>3000.0</td>\n",
       "      <td>2012-08-25 05:21:42</td>\n",
       "      <td>3068.00</td>\n",
       "      <td>28</td>\n",
       "      <td>US</td>\n",
       "      <td>3068.00</td>\n",
       "      <td>3068.00</td>\n",
       "      <td>3000.00</td>\n",
       "      <td>True</td>\n",
       "      <td>0.514415</td>\n",
       "      <td>0.485585</td>\n",
       "      <td>False</td>\n",
       "      <td>107.142857</td>\n",
       "    </tr>\n",
       "    <tr>\n",
       "      <th>229</th>\n",
       "      <td>1001188527</td>\n",
       "      <td>Design Your Own Leatherjacket</td>\n",
       "      <td>Fashion</td>\n",
       "      <td>Fashion</td>\n",
       "      <td>EUR</td>\n",
       "      <td>2016-06-14</td>\n",
       "      <td>2000.0</td>\n",
       "      <td>2016-05-29 22:04:54</td>\n",
       "      <td>2028.00</td>\n",
       "      <td>7</td>\n",
       "      <td>DE</td>\n",
       "      <td>2254.15</td>\n",
       "      <td>2282.32</td>\n",
       "      <td>2250.81</td>\n",
       "      <td>True</td>\n",
       "      <td>0.975990</td>\n",
       "      <td>0.024010</td>\n",
       "      <td>False</td>\n",
       "      <td>285.714286</td>\n",
       "    </tr>\n",
       "    <tr>\n",
       "      <th>1372</th>\n",
       "      <td>1008284937</td>\n",
       "      <td>Captain Pancake</td>\n",
       "      <td>Theater</td>\n",
       "      <td>Theater</td>\n",
       "      <td>GBP</td>\n",
       "      <td>2013-11-22</td>\n",
       "      <td>4000.0</td>\n",
       "      <td>2013-10-23 19:06:10</td>\n",
       "      <td>1376.00</td>\n",
       "      <td>46</td>\n",
       "      <td>GB</td>\n",
       "      <td>2219.13</td>\n",
       "      <td>2229.24</td>\n",
       "      <td>6480.36</td>\n",
       "      <td>False</td>\n",
       "      <td>0.180365</td>\n",
       "      <td>0.819635</td>\n",
       "      <td>True</td>\n",
       "      <td>86.956522</td>\n",
       "    </tr>\n",
       "    <tr>\n",
       "      <th>1092</th>\n",
       "      <td>1006670860</td>\n",
       "      <td>PRAISE</td>\n",
       "      <td>Performance Art</td>\n",
       "      <td>Art</td>\n",
       "      <td>USD</td>\n",
       "      <td>2013-08-07</td>\n",
       "      <td>1800.0</td>\n",
       "      <td>2013-06-28 21:51:52</td>\n",
       "      <td>596.00</td>\n",
       "      <td>18</td>\n",
       "      <td>US</td>\n",
       "      <td>596.00</td>\n",
       "      <td>596.00</td>\n",
       "      <td>1800.00</td>\n",
       "      <td>False</td>\n",
       "      <td>0.430862</td>\n",
       "      <td>0.569138</td>\n",
       "      <td>True</td>\n",
       "      <td>100.000000</td>\n",
       "    </tr>\n",
       "    <tr>\n",
       "      <th>937</th>\n",
       "      <td>1005696498</td>\n",
       "      <td>Ian Mahan new album \"Little Moments\"</td>\n",
       "      <td>Pop</td>\n",
       "      <td>Music</td>\n",
       "      <td>USD</td>\n",
       "      <td>2013-01-19</td>\n",
       "      <td>3000.0</td>\n",
       "      <td>2012-12-12 20:22:45</td>\n",
       "      <td>3155.00</td>\n",
       "      <td>15</td>\n",
       "      <td>US</td>\n",
       "      <td>3155.00</td>\n",
       "      <td>3155.00</td>\n",
       "      <td>3000.00</td>\n",
       "      <td>True</td>\n",
       "      <td>0.730526</td>\n",
       "      <td>0.269474</td>\n",
       "      <td>False</td>\n",
       "      <td>200.000000</td>\n",
       "    </tr>\n",
       "    <tr>\n",
       "      <th>1588</th>\n",
       "      <td>1009696636</td>\n",
       "      <td>SUPER HERO  WEB SERIES - ALLEGIANCE OF POWERS</td>\n",
       "      <td>Webseries</td>\n",
       "      <td>Film &amp; Video</td>\n",
       "      <td>USD</td>\n",
       "      <td>2012-12-15</td>\n",
       "      <td>500.0</td>\n",
       "      <td>2012-11-30 20:53:27</td>\n",
       "      <td>510.00</td>\n",
       "      <td>4</td>\n",
       "      <td>US</td>\n",
       "      <td>510.00</td>\n",
       "      <td>510.00</td>\n",
       "      <td>500.00</td>\n",
       "      <td>True</td>\n",
       "      <td>0.865842</td>\n",
       "      <td>0.134158</td>\n",
       "      <td>False</td>\n",
       "      <td>125.000000</td>\n",
       "    </tr>\n",
       "    <tr>\n",
       "      <th>3188</th>\n",
       "      <td>1019423578</td>\n",
       "      <td>Orion Key Holder</td>\n",
       "      <td>Product Design</td>\n",
       "      <td>Design</td>\n",
       "      <td>USD</td>\n",
       "      <td>2015-02-16</td>\n",
       "      <td>3000.0</td>\n",
       "      <td>2015-01-14 20:03:00</td>\n",
       "      <td>1121.00</td>\n",
       "      <td>38</td>\n",
       "      <td>US</td>\n",
       "      <td>1121.00</td>\n",
       "      <td>1121.00</td>\n",
       "      <td>3000.00</td>\n",
       "      <td>False</td>\n",
       "      <td>0.397104</td>\n",
       "      <td>0.602896</td>\n",
       "      <td>True</td>\n",
       "      <td>78.947368</td>\n",
       "    </tr>\n",
       "    <tr>\n",
       "      <th>3366</th>\n",
       "      <td>1020513009</td>\n",
       "      <td>The Hooded Infinity Sport Towel - (Patent D 69...</td>\n",
       "      <td>Product Design</td>\n",
       "      <td>Design</td>\n",
       "      <td>USD</td>\n",
       "      <td>2016-08-14</td>\n",
       "      <td>7000.0</td>\n",
       "      <td>2016-07-13 20:23:47</td>\n",
       "      <td>3746.00</td>\n",
       "      <td>116</td>\n",
       "      <td>US</td>\n",
       "      <td>1264.00</td>\n",
       "      <td>3746.00</td>\n",
       "      <td>7000.00</td>\n",
       "      <td>False</td>\n",
       "      <td>0.125857</td>\n",
       "      <td>0.874143</td>\n",
       "      <td>True</td>\n",
       "      <td>60.344828</td>\n",
       "    </tr>\n",
       "    <tr>\n",
       "      <th>828</th>\n",
       "      <td>1005000674</td>\n",
       "      <td>In The Beginning by Mark Barnes</td>\n",
       "      <td>World Music</td>\n",
       "      <td>Music</td>\n",
       "      <td>USD</td>\n",
       "      <td>2016-04-04</td>\n",
       "      <td>2000.0</td>\n",
       "      <td>2016-03-14 00:37:14</td>\n",
       "      <td>772.00</td>\n",
       "      <td>20</td>\n",
       "      <td>US</td>\n",
       "      <td>772.00</td>\n",
       "      <td>772.00</td>\n",
       "      <td>2000.00</td>\n",
       "      <td>False</td>\n",
       "      <td>0.461455</td>\n",
       "      <td>0.538545</td>\n",
       "      <td>True</td>\n",
       "      <td>100.000000</td>\n",
       "    </tr>\n",
       "  </tbody>\n",
       "</table>\n",
       "</div>"
      ],
      "text/plain": [
       "              ID                                               name  \\\n",
       "4033  1024301544                           Season 1 of NYC Glitters   \n",
       "2680  1016332080     The Hinckley Brothers Are Making A New Record!   \n",
       "2747  1016781421                                    Fantasy Funding   \n",
       "2345  1014315497     Kickstart our Root Cellar. Feed our community!   \n",
       "3280  1019959738         \"Welcome to Unity\" Booster Club (Canceled)   \n",
       "1115  1006835138                                         Oh, Fudge!   \n",
       "1346  1008111784                          Megan Swansen Spring 2013   \n",
       "229   1001188527                      Design Your Own Leatherjacket   \n",
       "1372  1008284937                                    Captain Pancake   \n",
       "1092  1006670860                                             PRAISE   \n",
       "937   1005696498               Ian Mahan new album \"Little Moments\"   \n",
       "1588  1009696636      SUPER HERO  WEB SERIES - ALLEGIANCE OF POWERS   \n",
       "3188  1019423578                                   Orion Key Holder   \n",
       "3366  1020513009  The Hooded Infinity Sport Towel - (Patent D 69...   \n",
       "828   1005000674                    In The Beginning by Mark Barnes   \n",
       "\n",
       "              category main_category currency    deadline     goal  \\\n",
       "4033         Webseries  Film & Video      USD  2011-12-01   6000.0   \n",
       "2680    Country & Folk         Music      USD  2015-10-17  30000.0   \n",
       "2747  Children's Books    Publishing      GBP  2015-10-02    675.0   \n",
       "2345             Farms          Food      USD  2015-07-15  25000.0   \n",
       "3280       Documentary  Film & Video      USD  2014-07-05  30000.0   \n",
       "1115              Food          Food      USD  2011-11-16   5000.0   \n",
       "1346           Fashion       Fashion      USD  2012-09-30   3000.0   \n",
       "229            Fashion       Fashion      EUR  2016-06-14   2000.0   \n",
       "1372           Theater       Theater      GBP  2013-11-22   4000.0   \n",
       "1092   Performance Art           Art      USD  2013-08-07   1800.0   \n",
       "937                Pop         Music      USD  2013-01-19   3000.0   \n",
       "1588         Webseries  Film & Video      USD  2012-12-15    500.0   \n",
       "3188    Product Design        Design      USD  2015-02-16   3000.0   \n",
       "3366    Product Design        Design      USD  2016-08-14   7000.0   \n",
       "828        World Music         Music      USD  2016-04-04   2000.0   \n",
       "\n",
       "                 launched   pledged  backers country  usd pledged  \\\n",
       "4033  2011-10-14 20:16:11   1336.00       59      US      1336.00   \n",
       "2680  2015-09-17 17:25:45  30395.01       74      US     30395.01   \n",
       "2747  2015-08-13 14:54:48    236.00       16      GB       367.13   \n",
       "2345  2015-06-15 15:00:31  13412.00      173      US     13412.00   \n",
       "3280  2014-05-17 02:56:12   4932.70      109      US      4932.70   \n",
       "1115  2011-09-17 03:51:54   1440.55       63      US      1440.55   \n",
       "1346  2012-08-25 05:21:42   3068.00       28      US      3068.00   \n",
       "229   2016-05-29 22:04:54   2028.00        7      DE      2254.15   \n",
       "1372  2013-10-23 19:06:10   1376.00       46      GB      2219.13   \n",
       "1092  2013-06-28 21:51:52    596.00       18      US       596.00   \n",
       "937   2012-12-12 20:22:45   3155.00       15      US      3155.00   \n",
       "1588  2012-11-30 20:53:27    510.00        4      US       510.00   \n",
       "3188  2015-01-14 20:03:00   1121.00       38      US      1121.00   \n",
       "3366  2016-07-13 20:23:47   3746.00      116      US      1264.00   \n",
       "828   2016-03-14 00:37:14    772.00       20      US       772.00   \n",
       "\n",
       "      usd_pledged_real  usd_goal_real  successful  prob_failure  prob_success  \\\n",
       "4033           1336.00        6000.00       False      0.334625      0.665375   \n",
       "2680          30395.01       30000.00        True      0.671047      0.328953   \n",
       "2747            357.94        1023.78       False      0.308950      0.691050   \n",
       "2345          13412.00       25000.00       False      0.186031      0.813969   \n",
       "3280           4932.70       30000.00       False      0.371332      0.628668   \n",
       "1115           1440.55        5000.00       False      0.306168      0.693832   \n",
       "1346           3068.00        3000.00        True      0.514415      0.485585   \n",
       "229            2282.32        2250.81        True      0.975990      0.024010   \n",
       "1372           2229.24        6480.36       False      0.180365      0.819635   \n",
       "1092            596.00        1800.00       False      0.430862      0.569138   \n",
       "937            3155.00        3000.00        True      0.730526      0.269474   \n",
       "1588            510.00         500.00        True      0.865842      0.134158   \n",
       "3188           1121.00        3000.00       False      0.397104      0.602896   \n",
       "3366           3746.00        7000.00       False      0.125857      0.874143   \n",
       "828             772.00        2000.00       False      0.461455      0.538545   \n",
       "\n",
       "      guess  goal_per_backer  \n",
       "4033   True       101.694915  \n",
       "2680  False       405.405405  \n",
       "2747   True        42.187500  \n",
       "2345   True       144.508671  \n",
       "3280   True       275.229358  \n",
       "1115   True        79.365079  \n",
       "1346  False       107.142857  \n",
       "229   False       285.714286  \n",
       "1372   True        86.956522  \n",
       "1092   True       100.000000  \n",
       "937   False       200.000000  \n",
       "1588  False       125.000000  \n",
       "3188   True        78.947368  \n",
       "3366   True        60.344828  \n",
       "828    True       100.000000  "
      ]
     },
     "execution_count": 67,
     "metadata": {},
     "output_type": "execute_result"
    }
   ],
   "source": [
    "bv = log_proba.guess!=log_proba.successful\n",
    "log_proba[bv].head(15)"
   ]
  },
  {
   "cell_type": "code",
   "execution_count": 68,
   "metadata": {},
   "outputs": [
    {
     "data": {
      "image/png": "[encoded data removed]",
      "text/plain": [
       "<Figure size 720x576 with 2 Axes>"
      ]
     },
     "metadata": {
      "needs_background": "light"
     },
     "output_type": "display_data"
    }
   ],
   "source": [
    "fig = plt.figure (figsize=(10, 8))\n",
    "ax1 = fig.add_subplot (2, 1, 1)\n",
    "ax2 = fig.add_subplot (2, 1, 2)\n",
    "\n",
    "falsePositives = log_proba[(log_proba.guess==True) & (log_proba.successful==False)]\n",
    "falsePositives.prob_success.plot(ax=ax1, kind=\"hist\", title=\"false positives\");\n",
    "\n",
    "trueNegatives = log_proba[(log_proba.guess==False) & (log_proba.successful==True)]\n",
    "trueNegatives.prob_failure.plot(ax=ax2, kind=\"hist\", title=\"true negatives\");"
   ]
  },
  {
   "cell_type": "markdown",
   "metadata": {},
   "source": [
    "Логистичната регресия изглежда много уверена, въпреки че е много далеч от истината. Лошо. Но пък когато се разгледат примерите, в\n",
    "които грешки, наистина не може да се каже защо греши. Няма как да научим по-добре регресията с належащите данни, само може\n",
    "да правим малки инкрементални подобрения.\n",
    "\n",
    "Сега и за random forest:"
   ]
  },
  {
   "cell_type": "code",
   "execution_count": 69,
   "metadata": {},
   "outputs": [
    {
     "data": {
      "text/html": [
       "<div>\n",
       "<style scoped>\n",
       "    .dataframe tbody tr th:only-of-type {\n",
       "        vertical-align: middle;\n",
       "    }\n",
       "\n",
       "    .dataframe tbody tr th {\n",
       "        vertical-align: top;\n",
       "    }\n",
       "\n",
       "    .dataframe thead th {\n",
       "        text-align: right;\n",
       "    }\n",
       "</style>\n",
       "<table border=\"1\" class=\"dataframe\">\n",
       "  <thead>\n",
       "    <tr style=\"text-align: right;\">\n",
       "      <th></th>\n",
       "      <th>ID</th>\n",
       "      <th>name</th>\n",
       "      <th>category</th>\n",
       "      <th>main_category</th>\n",
       "      <th>currency</th>\n",
       "      <th>deadline</th>\n",
       "      <th>goal</th>\n",
       "      <th>launched</th>\n",
       "      <th>pledged</th>\n",
       "      <th>backers</th>\n",
       "      <th>country</th>\n",
       "      <th>usd pledged</th>\n",
       "      <th>usd_pledged_real</th>\n",
       "      <th>usd_goal_real</th>\n",
       "      <th>successful</th>\n",
       "      <th>prob_failure</th>\n",
       "      <th>prob_success</th>\n",
       "      <th>guess</th>\n",
       "      <th>goal_per_backer</th>\n",
       "    </tr>\n",
       "  </thead>\n",
       "  <tbody>\n",
       "    <tr>\n",
       "      <th>0</th>\n",
       "      <td>1000003930</td>\n",
       "      <td>Greeting From Earth: ZGAC Arts Capsule For ET</td>\n",
       "      <td>Narrative Film</td>\n",
       "      <td>Film &amp; Video</td>\n",
       "      <td>USD</td>\n",
       "      <td>2017-11-01</td>\n",
       "      <td>30000.0</td>\n",
       "      <td>2017-09-02 04:43:57</td>\n",
       "      <td>2421.0</td>\n",
       "      <td>15</td>\n",
       "      <td>US</td>\n",
       "      <td>100.0</td>\n",
       "      <td>2421.0</td>\n",
       "      <td>30000.0</td>\n",
       "      <td>False</td>\n",
       "      <td>0.864928</td>\n",
       "      <td>0.135072</td>\n",
       "      <td>False</td>\n",
       "      <td>2000.000000</td>\n",
       "    </tr>\n",
       "    <tr>\n",
       "      <th>1</th>\n",
       "      <td>1000004038</td>\n",
       "      <td>Where is Hank?</td>\n",
       "      <td>Narrative Film</td>\n",
       "      <td>Film &amp; Video</td>\n",
       "      <td>USD</td>\n",
       "      <td>2013-02-26</td>\n",
       "      <td>45000.0</td>\n",
       "      <td>2013-01-12 00:20:50</td>\n",
       "      <td>220.0</td>\n",
       "      <td>3</td>\n",
       "      <td>US</td>\n",
       "      <td>220.0</td>\n",
       "      <td>220.0</td>\n",
       "      <td>45000.0</td>\n",
       "      <td>False</td>\n",
       "      <td>0.850495</td>\n",
       "      <td>0.149505</td>\n",
       "      <td>False</td>\n",
       "      <td>15000.000000</td>\n",
       "    </tr>\n",
       "    <tr>\n",
       "      <th>2</th>\n",
       "      <td>1000007540</td>\n",
       "      <td>ToshiCapital Rekordz Needs Help to Complete Album</td>\n",
       "      <td>Music</td>\n",
       "      <td>Music</td>\n",
       "      <td>USD</td>\n",
       "      <td>2012-04-16</td>\n",
       "      <td>5000.0</td>\n",
       "      <td>2012-03-17 03:24:11</td>\n",
       "      <td>1.0</td>\n",
       "      <td>1</td>\n",
       "      <td>US</td>\n",
       "      <td>1.0</td>\n",
       "      <td>1.0</td>\n",
       "      <td>5000.0</td>\n",
       "      <td>False</td>\n",
       "      <td>0.804275</td>\n",
       "      <td>0.195725</td>\n",
       "      <td>False</td>\n",
       "      <td>5000.000000</td>\n",
       "    </tr>\n",
       "    <tr>\n",
       "      <th>3</th>\n",
       "      <td>1000011046</td>\n",
       "      <td>Community Film Project: The Art of Neighborhoo...</td>\n",
       "      <td>Film &amp; Video</td>\n",
       "      <td>Film &amp; Video</td>\n",
       "      <td>USD</td>\n",
       "      <td>2015-08-29</td>\n",
       "      <td>19500.0</td>\n",
       "      <td>2015-07-04 08:35:03</td>\n",
       "      <td>1283.0</td>\n",
       "      <td>14</td>\n",
       "      <td>US</td>\n",
       "      <td>1283.0</td>\n",
       "      <td>1283.0</td>\n",
       "      <td>19500.0</td>\n",
       "      <td>False</td>\n",
       "      <td>0.874851</td>\n",
       "      <td>0.125149</td>\n",
       "      <td>False</td>\n",
       "      <td>1392.857143</td>\n",
       "    </tr>\n",
       "    <tr>\n",
       "      <th>4</th>\n",
       "      <td>1000014025</td>\n",
       "      <td>Monarch Espresso Bar</td>\n",
       "      <td>Restaurants</td>\n",
       "      <td>Food</td>\n",
       "      <td>USD</td>\n",
       "      <td>2016-04-01</td>\n",
       "      <td>50000.0</td>\n",
       "      <td>2016-02-26 13:38:27</td>\n",
       "      <td>52375.0</td>\n",
       "      <td>224</td>\n",
       "      <td>US</td>\n",
       "      <td>52375.0</td>\n",
       "      <td>52375.0</td>\n",
       "      <td>50000.0</td>\n",
       "      <td>True</td>\n",
       "      <td>0.531589</td>\n",
       "      <td>0.468411</td>\n",
       "      <td>False</td>\n",
       "      <td>223.214286</td>\n",
       "    </tr>\n",
       "  </tbody>\n",
       "</table>\n",
       "</div>"
      ],
      "text/plain": [
       "           ID                                               name  \\\n",
       "0  1000003930      Greeting From Earth: ZGAC Arts Capsule For ET   \n",
       "1  1000004038                                     Where is Hank?   \n",
       "2  1000007540  ToshiCapital Rekordz Needs Help to Complete Album   \n",
       "3  1000011046  Community Film Project: The Art of Neighborhoo...   \n",
       "4  1000014025                               Monarch Espresso Bar   \n",
       "\n",
       "         category main_category currency    deadline     goal  \\\n",
       "0  Narrative Film  Film & Video      USD  2017-11-01  30000.0   \n",
       "1  Narrative Film  Film & Video      USD  2013-02-26  45000.0   \n",
       "2           Music         Music      USD  2012-04-16   5000.0   \n",
       "3    Film & Video  Film & Video      USD  2015-08-29  19500.0   \n",
       "4     Restaurants          Food      USD  2016-04-01  50000.0   \n",
       "\n",
       "              launched  pledged  backers country  usd pledged  \\\n",
       "0  2017-09-02 04:43:57   2421.0       15      US        100.0   \n",
       "1  2013-01-12 00:20:50    220.0        3      US        220.0   \n",
       "2  2012-03-17 03:24:11      1.0        1      US          1.0   \n",
       "3  2015-07-04 08:35:03   1283.0       14      US       1283.0   \n",
       "4  2016-02-26 13:38:27  52375.0      224      US      52375.0   \n",
       "\n",
       "   usd_pledged_real  usd_goal_real  successful  prob_failure  prob_success  \\\n",
       "0            2421.0        30000.0       False      0.864928      0.135072   \n",
       "1             220.0        45000.0       False      0.850495      0.149505   \n",
       "2               1.0         5000.0       False      0.804275      0.195725   \n",
       "3            1283.0        19500.0       False      0.874851      0.125149   \n",
       "4           52375.0        50000.0        True      0.531589      0.468411   \n",
       "\n",
       "   guess  goal_per_backer  \n",
       "0  False      2000.000000  \n",
       "1  False     15000.000000  \n",
       "2  False      5000.000000  \n",
       "3  False      1392.857143  \n",
       "4  False       223.214286  "
      ]
     },
     "execution_count": 69,
     "metadata": {},
     "output_type": "execute_result"
    }
   ],
   "source": [
    "X_train, X_test, y_train, y_test = train_test_split(X_cat, y, stratify=y, random_state=515)\n",
    "model = RandomForestClassifier(max_depth=8, n_estimators=30, random_state=155).fit(X_train, y_train)\n",
    "cat_proba = probaDataFrame(X_cat, model)\n",
    "cat_proba.head(5)"
   ]
  },
  {
   "cell_type": "code",
   "execution_count": 70,
   "metadata": {},
   "outputs": [
    {
     "data": {
      "text/html": [
       "<div>\n",
       "<style scoped>\n",
       "    .dataframe tbody tr th:only-of-type {\n",
       "        vertical-align: middle;\n",
       "    }\n",
       "\n",
       "    .dataframe tbody tr th {\n",
       "        vertical-align: top;\n",
       "    }\n",
       "\n",
       "    .dataframe thead th {\n",
       "        text-align: right;\n",
       "    }\n",
       "</style>\n",
       "<table border=\"1\" class=\"dataframe\">\n",
       "  <thead>\n",
       "    <tr style=\"text-align: right;\">\n",
       "      <th></th>\n",
       "      <th>ID</th>\n",
       "      <th>name</th>\n",
       "      <th>category</th>\n",
       "      <th>main_category</th>\n",
       "      <th>currency</th>\n",
       "      <th>deadline</th>\n",
       "      <th>goal</th>\n",
       "      <th>launched</th>\n",
       "      <th>pledged</th>\n",
       "      <th>backers</th>\n",
       "      <th>country</th>\n",
       "      <th>usd pledged</th>\n",
       "      <th>usd_pledged_real</th>\n",
       "      <th>usd_goal_real</th>\n",
       "      <th>successful</th>\n",
       "      <th>prob_failure</th>\n",
       "      <th>prob_success</th>\n",
       "      <th>guess</th>\n",
       "      <th>goal_per_backer</th>\n",
       "    </tr>\n",
       "  </thead>\n",
       "  <tbody>\n",
       "    <tr>\n",
       "      <th>4</th>\n",
       "      <td>1000014025</td>\n",
       "      <td>Monarch Espresso Bar</td>\n",
       "      <td>Restaurants</td>\n",
       "      <td>Food</td>\n",
       "      <td>USD</td>\n",
       "      <td>2016-04-01</td>\n",
       "      <td>50000.0</td>\n",
       "      <td>2016-02-26 13:38:27</td>\n",
       "      <td>52375.00</td>\n",
       "      <td>224</td>\n",
       "      <td>US</td>\n",
       "      <td>52375.00</td>\n",
       "      <td>52375.00</td>\n",
       "      <td>50000.00</td>\n",
       "      <td>True</td>\n",
       "      <td>0.531589</td>\n",
       "      <td>0.468411</td>\n",
       "      <td>False</td>\n",
       "      <td>223.214286</td>\n",
       "    </tr>\n",
       "    <tr>\n",
       "      <th>12</th>\n",
       "      <td>1000064918</td>\n",
       "      <td>The Beard</td>\n",
       "      <td>Comic Books</td>\n",
       "      <td>Comics</td>\n",
       "      <td>USD</td>\n",
       "      <td>2014-11-08</td>\n",
       "      <td>1500.0</td>\n",
       "      <td>2014-10-09 22:27:52</td>\n",
       "      <td>395.00</td>\n",
       "      <td>16</td>\n",
       "      <td>US</td>\n",
       "      <td>395.00</td>\n",
       "      <td>395.00</td>\n",
       "      <td>1500.00</td>\n",
       "      <td>False</td>\n",
       "      <td>0.416893</td>\n",
       "      <td>0.583107</td>\n",
       "      <td>True</td>\n",
       "      <td>93.750000</td>\n",
       "    </tr>\n",
       "    <tr>\n",
       "      <th>13</th>\n",
       "      <td>1000068480</td>\n",
       "      <td>Notes From London: Above &amp; Below</td>\n",
       "      <td>Art Books</td>\n",
       "      <td>Publishing</td>\n",
       "      <td>USD</td>\n",
       "      <td>2015-05-10</td>\n",
       "      <td>3000.0</td>\n",
       "      <td>2015-04-10 21:20:54</td>\n",
       "      <td>789.00</td>\n",
       "      <td>20</td>\n",
       "      <td>US</td>\n",
       "      <td>789.00</td>\n",
       "      <td>789.00</td>\n",
       "      <td>3000.00</td>\n",
       "      <td>False</td>\n",
       "      <td>0.485097</td>\n",
       "      <td>0.514903</td>\n",
       "      <td>True</td>\n",
       "      <td>150.000000</td>\n",
       "    </tr>\n",
       "    <tr>\n",
       "      <th>15</th>\n",
       "      <td>1000071625</td>\n",
       "      <td>Boco Tea</td>\n",
       "      <td>Food</td>\n",
       "      <td>Food</td>\n",
       "      <td>USD</td>\n",
       "      <td>2012-06-02</td>\n",
       "      <td>5000.0</td>\n",
       "      <td>2012-05-03 17:24:32</td>\n",
       "      <td>1781.00</td>\n",
       "      <td>40</td>\n",
       "      <td>US</td>\n",
       "      <td>1781.00</td>\n",
       "      <td>1781.00</td>\n",
       "      <td>5000.00</td>\n",
       "      <td>False</td>\n",
       "      <td>0.432945</td>\n",
       "      <td>0.567055</td>\n",
       "      <td>True</td>\n",
       "      <td>125.000000</td>\n",
       "    </tr>\n",
       "    <tr>\n",
       "      <th>37</th>\n",
       "      <td>1000170964</td>\n",
       "      <td>Penny Bingo Playing Card Game fun for the whol...</td>\n",
       "      <td>Tabletop Games</td>\n",
       "      <td>Games</td>\n",
       "      <td>USD</td>\n",
       "      <td>2017-03-27</td>\n",
       "      <td>1500.0</td>\n",
       "      <td>2017-03-02 04:01:43</td>\n",
       "      <td>856.00</td>\n",
       "      <td>25</td>\n",
       "      <td>US</td>\n",
       "      <td>324.00</td>\n",
       "      <td>856.00</td>\n",
       "      <td>1500.00</td>\n",
       "      <td>False</td>\n",
       "      <td>0.250878</td>\n",
       "      <td>0.749122</td>\n",
       "      <td>True</td>\n",
       "      <td>60.000000</td>\n",
       "    </tr>\n",
       "    <tr>\n",
       "      <th>47</th>\n",
       "      <td>1000216800</td>\n",
       "      <td>Mothers Into Living Fit Yoga DVD for Moms and ...</td>\n",
       "      <td>Family</td>\n",
       "      <td>Film &amp; Video</td>\n",
       "      <td>USD</td>\n",
       "      <td>2014-06-19</td>\n",
       "      <td>11000.0</td>\n",
       "      <td>2014-05-20 17:18:29</td>\n",
       "      <td>11055.00</td>\n",
       "      <td>51</td>\n",
       "      <td>US</td>\n",
       "      <td>11055.00</td>\n",
       "      <td>11055.00</td>\n",
       "      <td>11000.00</td>\n",
       "      <td>True</td>\n",
       "      <td>0.620338</td>\n",
       "      <td>0.379662</td>\n",
       "      <td>False</td>\n",
       "      <td>215.686275</td>\n",
       "    </tr>\n",
       "    <tr>\n",
       "      <th>56</th>\n",
       "      <td>1000243793</td>\n",
       "      <td>\"JurassicJurassix\" by The Guilt</td>\n",
       "      <td>Rock</td>\n",
       "      <td>Music</td>\n",
       "      <td>USD</td>\n",
       "      <td>2015-04-09</td>\n",
       "      <td>850.0</td>\n",
       "      <td>2015-02-23 00:10:28</td>\n",
       "      <td>485.00</td>\n",
       "      <td>13</td>\n",
       "      <td>US</td>\n",
       "      <td>485.00</td>\n",
       "      <td>485.00</td>\n",
       "      <td>850.00</td>\n",
       "      <td>False</td>\n",
       "      <td>0.486920</td>\n",
       "      <td>0.513080</td>\n",
       "      <td>True</td>\n",
       "      <td>65.384615</td>\n",
       "    </tr>\n",
       "    <tr>\n",
       "      <th>101</th>\n",
       "      <td>1000481607</td>\n",
       "      <td>Alpha Omega E.P.</td>\n",
       "      <td>Metal</td>\n",
       "      <td>Music</td>\n",
       "      <td>USD</td>\n",
       "      <td>2016-09-30</td>\n",
       "      <td>1000.0</td>\n",
       "      <td>2016-09-05 22:34:26</td>\n",
       "      <td>472.00</td>\n",
       "      <td>13</td>\n",
       "      <td>US</td>\n",
       "      <td>0.00</td>\n",
       "      <td>472.00</td>\n",
       "      <td>1000.00</td>\n",
       "      <td>False</td>\n",
       "      <td>0.372993</td>\n",
       "      <td>0.627007</td>\n",
       "      <td>True</td>\n",
       "      <td>76.923077</td>\n",
       "    </tr>\n",
       "    <tr>\n",
       "      <th>113</th>\n",
       "      <td>1000545028</td>\n",
       "      <td>Trackside - Independent documentary featuring ...</td>\n",
       "      <td>Documentary</td>\n",
       "      <td>Film &amp; Video</td>\n",
       "      <td>GBP</td>\n",
       "      <td>2014-03-02</td>\n",
       "      <td>5000.0</td>\n",
       "      <td>2014-01-24 12:49:11</td>\n",
       "      <td>5037.00</td>\n",
       "      <td>47</td>\n",
       "      <td>GB</td>\n",
       "      <td>8345.98</td>\n",
       "      <td>8447.09</td>\n",
       "      <td>8385.04</td>\n",
       "      <td>True</td>\n",
       "      <td>0.639245</td>\n",
       "      <td>0.360755</td>\n",
       "      <td>False</td>\n",
       "      <td>106.382979</td>\n",
       "    </tr>\n",
       "    <tr>\n",
       "      <th>127</th>\n",
       "      <td>1000598804</td>\n",
       "      <td>Gone In 61 Seconds</td>\n",
       "      <td>Tabletop Games</td>\n",
       "      <td>Games</td>\n",
       "      <td>USD</td>\n",
       "      <td>2017-11-08</td>\n",
       "      <td>1000.0</td>\n",
       "      <td>2017-11-03 13:44:35</td>\n",
       "      <td>875.00</td>\n",
       "      <td>14</td>\n",
       "      <td>US</td>\n",
       "      <td>420.00</td>\n",
       "      <td>875.00</td>\n",
       "      <td>1000.00</td>\n",
       "      <td>False</td>\n",
       "      <td>0.421540</td>\n",
       "      <td>0.578460</td>\n",
       "      <td>True</td>\n",
       "      <td>71.428571</td>\n",
       "    </tr>\n",
       "    <tr>\n",
       "      <th>130</th>\n",
       "      <td>1000602156</td>\n",
       "      <td>HYDRA DICE</td>\n",
       "      <td>Games</td>\n",
       "      <td>Games</td>\n",
       "      <td>USD</td>\n",
       "      <td>2012-06-06</td>\n",
       "      <td>12000.0</td>\n",
       "      <td>2012-05-07 07:42:47</td>\n",
       "      <td>3100.66</td>\n",
       "      <td>89</td>\n",
       "      <td>US</td>\n",
       "      <td>3100.66</td>\n",
       "      <td>3100.66</td>\n",
       "      <td>12000.00</td>\n",
       "      <td>False</td>\n",
       "      <td>0.473749</td>\n",
       "      <td>0.526251</td>\n",
       "      <td>True</td>\n",
       "      <td>134.831461</td>\n",
       "    </tr>\n",
       "    <tr>\n",
       "      <th>134</th>\n",
       "      <td>1000629643</td>\n",
       "      <td>ODIN: Android 'Smart' Projector to Carry in Yo...</td>\n",
       "      <td>Hardware</td>\n",
       "      <td>Technology</td>\n",
       "      <td>USD</td>\n",
       "      <td>2014-07-08</td>\n",
       "      <td>250000.0</td>\n",
       "      <td>2014-05-28 13:54:18</td>\n",
       "      <td>268192.00</td>\n",
       "      <td>561</td>\n",
       "      <td>US</td>\n",
       "      <td>268192.00</td>\n",
       "      <td>268192.00</td>\n",
       "      <td>250000.00</td>\n",
       "      <td>True</td>\n",
       "      <td>0.619396</td>\n",
       "      <td>0.380604</td>\n",
       "      <td>False</td>\n",
       "      <td>445.632799</td>\n",
       "    </tr>\n",
       "    <tr>\n",
       "      <th>141</th>\n",
       "      <td>1000650960</td>\n",
       "      <td>Crap Amidst Hilarity, vol. 1</td>\n",
       "      <td>Playing Cards</td>\n",
       "      <td>Games</td>\n",
       "      <td>USD</td>\n",
       "      <td>2016-03-22</td>\n",
       "      <td>7500.0</td>\n",
       "      <td>2016-01-22 01:36:45</td>\n",
       "      <td>942.25</td>\n",
       "      <td>55</td>\n",
       "      <td>US</td>\n",
       "      <td>942.25</td>\n",
       "      <td>942.25</td>\n",
       "      <td>7500.00</td>\n",
       "      <td>False</td>\n",
       "      <td>0.462123</td>\n",
       "      <td>0.537877</td>\n",
       "      <td>True</td>\n",
       "      <td>136.363636</td>\n",
       "    </tr>\n",
       "    <tr>\n",
       "      <th>169</th>\n",
       "      <td>1000788629</td>\n",
       "      <td>Camille Peruto - NEW ALBUM</td>\n",
       "      <td>Pop</td>\n",
       "      <td>Music</td>\n",
       "      <td>USD</td>\n",
       "      <td>2016-07-06</td>\n",
       "      <td>15000.0</td>\n",
       "      <td>2016-05-07 00:02:52</td>\n",
       "      <td>18009.00</td>\n",
       "      <td>69</td>\n",
       "      <td>US</td>\n",
       "      <td>18009.00</td>\n",
       "      <td>18009.00</td>\n",
       "      <td>15000.00</td>\n",
       "      <td>True</td>\n",
       "      <td>0.596724</td>\n",
       "      <td>0.403276</td>\n",
       "      <td>False</td>\n",
       "      <td>217.391304</td>\n",
       "    </tr>\n",
       "    <tr>\n",
       "      <th>175</th>\n",
       "      <td>1000823935</td>\n",
       "      <td>Wax Stacks LP Record Crates</td>\n",
       "      <td>Design</td>\n",
       "      <td>Design</td>\n",
       "      <td>USD</td>\n",
       "      <td>2015-07-15</td>\n",
       "      <td>35000.0</td>\n",
       "      <td>2015-06-15 17:55:05</td>\n",
       "      <td>39209.00</td>\n",
       "      <td>120</td>\n",
       "      <td>US</td>\n",
       "      <td>39209.00</td>\n",
       "      <td>39209.00</td>\n",
       "      <td>35000.00</td>\n",
       "      <td>True</td>\n",
       "      <td>0.555009</td>\n",
       "      <td>0.444991</td>\n",
       "      <td>False</td>\n",
       "      <td>291.666667</td>\n",
       "    </tr>\n",
       "  </tbody>\n",
       "</table>\n",
       "</div>"
      ],
      "text/plain": [
       "             ID                                               name  \\\n",
       "4    1000014025                               Monarch Espresso Bar   \n",
       "12   1000064918                                          The Beard   \n",
       "13   1000068480                   Notes From London: Above & Below   \n",
       "15   1000071625                                           Boco Tea   \n",
       "37   1000170964  Penny Bingo Playing Card Game fun for the whol...   \n",
       "47   1000216800  Mothers Into Living Fit Yoga DVD for Moms and ...   \n",
       "56   1000243793                    \"JurassicJurassix\" by The Guilt   \n",
       "101  1000481607                                   Alpha Omega E.P.   \n",
       "113  1000545028  Trackside - Independent documentary featuring ...   \n",
       "127  1000598804                                 Gone In 61 Seconds   \n",
       "130  1000602156                                         HYDRA DICE   \n",
       "134  1000629643  ODIN: Android 'Smart' Projector to Carry in Yo...   \n",
       "141  1000650960                       Crap Amidst Hilarity, vol. 1   \n",
       "169  1000788629                         Camille Peruto - NEW ALBUM   \n",
       "175  1000823935                        Wax Stacks LP Record Crates   \n",
       "\n",
       "           category main_category currency    deadline      goal  \\\n",
       "4       Restaurants          Food      USD  2016-04-01   50000.0   \n",
       "12      Comic Books        Comics      USD  2014-11-08    1500.0   \n",
       "13        Art Books    Publishing      USD  2015-05-10    3000.0   \n",
       "15             Food          Food      USD  2012-06-02    5000.0   \n",
       "37   Tabletop Games         Games      USD  2017-03-27    1500.0   \n",
       "47           Family  Film & Video      USD  2014-06-19   11000.0   \n",
       "56             Rock         Music      USD  2015-04-09     850.0   \n",
       "101           Metal         Music      USD  2016-09-30    1000.0   \n",
       "113     Documentary  Film & Video      GBP  2014-03-02    5000.0   \n",
       "127  Tabletop Games         Games      USD  2017-11-08    1000.0   \n",
       "130           Games         Games      USD  2012-06-06   12000.0   \n",
       "134        Hardware    Technology      USD  2014-07-08  250000.0   \n",
       "141   Playing Cards         Games      USD  2016-03-22    7500.0   \n",
       "169             Pop         Music      USD  2016-07-06   15000.0   \n",
       "175          Design        Design      USD  2015-07-15   35000.0   \n",
       "\n",
       "                launched    pledged  backers country  usd pledged  \\\n",
       "4    2016-02-26 13:38:27   52375.00      224      US     52375.00   \n",
       "12   2014-10-09 22:27:52     395.00       16      US       395.00   \n",
       "13   2015-04-10 21:20:54     789.00       20      US       789.00   \n",
       "15   2012-05-03 17:24:32    1781.00       40      US      1781.00   \n",
       "37   2017-03-02 04:01:43     856.00       25      US       324.00   \n",
       "47   2014-05-20 17:18:29   11055.00       51      US     11055.00   \n",
       "56   2015-02-23 00:10:28     485.00       13      US       485.00   \n",
       "101  2016-09-05 22:34:26     472.00       13      US         0.00   \n",
       "113  2014-01-24 12:49:11    5037.00       47      GB      8345.98   \n",
       "127  2017-11-03 13:44:35     875.00       14      US       420.00   \n",
       "130  2012-05-07 07:42:47    3100.66       89      US      3100.66   \n",
       "134  2014-05-28 13:54:18  268192.00      561      US    268192.00   \n",
       "141  2016-01-22 01:36:45     942.25       55      US       942.25   \n",
       "169  2016-05-07 00:02:52   18009.00       69      US     18009.00   \n",
       "175  2015-06-15 17:55:05   39209.00      120      US     39209.00   \n",
       "\n",
       "     usd_pledged_real  usd_goal_real  successful  prob_failure  prob_success  \\\n",
       "4            52375.00       50000.00        True      0.531589      0.468411   \n",
       "12             395.00        1500.00       False      0.416893      0.583107   \n",
       "13             789.00        3000.00       False      0.485097      0.514903   \n",
       "15            1781.00        5000.00       False      0.432945      0.567055   \n",
       "37             856.00        1500.00       False      0.250878      0.749122   \n",
       "47           11055.00       11000.00        True      0.620338      0.379662   \n",
       "56             485.00         850.00       False      0.486920      0.513080   \n",
       "101            472.00        1000.00       False      0.372993      0.627007   \n",
       "113           8447.09        8385.04        True      0.639245      0.360755   \n",
       "127            875.00        1000.00       False      0.421540      0.578460   \n",
       "130           3100.66       12000.00       False      0.473749      0.526251   \n",
       "134         268192.00      250000.00        True      0.619396      0.380604   \n",
       "141            942.25        7500.00       False      0.462123      0.537877   \n",
       "169          18009.00       15000.00        True      0.596724      0.403276   \n",
       "175          39209.00       35000.00        True      0.555009      0.444991   \n",
       "\n",
       "     guess  goal_per_backer  \n",
       "4    False       223.214286  \n",
       "12    True        93.750000  \n",
       "13    True       150.000000  \n",
       "15    True       125.000000  \n",
       "37    True        60.000000  \n",
       "47   False       215.686275  \n",
       "56    True        65.384615  \n",
       "101   True        76.923077  \n",
       "113  False       106.382979  \n",
       "127   True        71.428571  \n",
       "130   True       134.831461  \n",
       "134  False       445.632799  \n",
       "141   True       136.363636  \n",
       "169  False       217.391304  \n",
       "175  False       291.666667  "
      ]
     },
     "execution_count": 70,
     "metadata": {},
     "output_type": "execute_result"
    }
   ],
   "source": [
    "bv = cat_proba.guess!=cat_proba.successful\n",
    "cat_proba[bv].head(15)"
   ]
  },
  {
   "cell_type": "code",
   "execution_count": 71,
   "metadata": {},
   "outputs": [
    {
     "data": {
      "image/png": "[encoded data removed]",
      "text/plain": [
       "<Figure size 720x576 with 2 Axes>"
      ]
     },
     "metadata": {
      "needs_background": "light"
     },
     "output_type": "display_data"
    }
   ],
   "source": [
    "fig = plt.figure (figsize=(10, 8))\n",
    "ax1 = fig.add_subplot (2, 1, 1)\n",
    "ax2 = fig.add_subplot (2, 1, 2)\n",
    "\n",
    "falsePositives = cat_proba[(cat_proba.guess==True) & (cat_proba.successful==False)]\n",
    "falsePositives.prob_success.plot(ax=ax1, kind=\"hist\", title=\"false positives\");\n",
    "\n",
    "trueNegatives = cat_proba[(cat_proba.guess==False) & (cat_proba.successful==True)]\n",
    "trueNegatives.prob_failure.plot(ax=ax2, kind=\"hist\", title=\"true negatives\");"
   ]
  },
  {
   "cell_type": "markdown",
   "metadata": {},
   "source": [
    "Random forest и linear regression моделите се справят горе-долу равно. Но графиката при random forest намаля за разлика от\n",
    "логистичната регресия -- модела знае, когато не знае.\n",
    "\n",
    "Липсвата на подобрение може би се дължи на липсата на данни - когато разгледаме ръчно в кой примери грешат, не можем да си дадем обяснение. Затова и stacking няма да има голям ефект."
   ]
  },
  {
   "cell_type": "markdown",
   "metadata": {},
   "source": [
    "## text feature\n",
    "\n",
    "Дали `name` feature може да ни помогне?"
   ]
  },
  {
   "cell_type": "code",
   "execution_count": 72,
   "metadata": {},
   "outputs": [],
   "source": [
    "from wordcloud import WordCloud, STOPWORDS\n",
    "from PIL import Image\n",
    "import numpy as np\n",
    "\n",
    "def plot_wordcloud_mask(words):\n",
    "    plt.figure(figsize=(14,12))\n",
    "    wc = WordCloud(background_color=\"black\", max_words=10000,\n",
    "                   stopwords=STOPWORDS, max_font_size= 40)\n",
    "    wc.generate(\" \".join(words))\n",
    "    plt.imshow(wc.recolor( colormap= 'Pastel1_r' , random_state=17), alpha=0.98)\n",
    "    plt.axis('off');"
   ]
  },
  {
   "cell_type": "code",
   "execution_count": 73,
   "metadata": {},
   "outputs": [
    {
     "data": {
      "image/png": "[encoded data removed]",
      "text/plain": [
       "<Figure size 1008x864 with 1 Axes>"
      ]
     },
     "metadata": {
      "needs_background": "light"
     },
     "output_type": "display_data"
    }
   ],
   "source": [
    "plot_wordcloud_mask(df.name)"
   ]
  },
  {
   "cell_type": "markdown",
   "metadata": {},
   "source": [
    "Като че ли не. Все пак пробваме с CountVectorizer и Stemming"
   ]
  },
  {
   "cell_type": "code",
   "execution_count": 74,
   "metadata": {},
   "outputs": [
    {
     "name": "stdout",
     "output_type": "stream",
     "text": [
      "train score: 0.9839116719242902\n",
      "test score: 0.9167455061494797\n"
     ]
    }
   ],
   "source": [
    "from sklearn.feature_extraction.text import CountVectorizer\n",
    "from nltk.stem import WordNetLemmatizer\n",
    "from nltk.stem import PorterStemmer\n",
    "import scipy.sparse\n",
    "\n",
    "stem = PorterStemmer()\n",
    "stemmed = df.name.apply(lambda t: \" \".join([stem.stem(w) for w in t.split()]))\n",
    "\n",
    "cntvec = CountVectorizer()\n",
    "X_cntvec = scipy.sparse.hstack([cntvec.fit_transform(stemmed, successful),\n",
    "                               scipy.sparse.csr_matrix(X_log.values)])\n",
    "\n",
    "X_train, X_test, y_train, y_test = train_test_split(X_cntvec, y, stratify=y, random_state=515)\n",
    "model = LogisticRegression().fit(X_train, y_train)\n",
    "print(\"train score:\", model.score(X_train, y_train))\n",
    "print(\"test score:\", model.score(X_test, y_test))"
   ]
  },
  {
   "cell_type": "markdown",
   "metadata": {},
   "source": [
    "Добре. Тук нарочно използвах sprase matrix, понеже получавам **memory error**. Сега ще е по-трудна работата с матрицата,\n",
    "но иначе няма как.\n",
    "\n",
    "Има известен проблем обаче. От wordcloud снимката се вижда, че част от проектите имат \"canceled\" в името си. Това нечестно подсказва на нашия модел и може да е причината точността да се е дигнала с 1%. Да филтрираме всички думи \"cancelled\"."
   ]
  },
  {
   "cell_type": "code",
   "execution_count": 75,
   "metadata": {},
   "outputs": [
    {
     "data": {
      "image/png": "[encoded data removed]",
      "text/plain": [
       "<Figure size 1008x864 with 1 Axes>"
      ]
     },
     "metadata": {
      "needs_background": "light"
     },
     "output_type": "display_data"
    }
   ],
   "source": [
    "def removeCanceled (str):\n",
    "    f = filter (lambda w: w.find(\"canceled\")==-1, str.split())\n",
    "    return \" \".join (list(f))\n",
    "\n",
    "nocanceled = stemmed.apply (removeCanceled)\n",
    "plot_wordcloud_mask (nocanceled)"
   ]
  },
  {
   "cell_type": "code",
   "execution_count": 76,
   "metadata": {},
   "outputs": [
    {
     "name": "stdout",
     "output_type": "stream",
     "text": [
      "train score: 0.9826498422712934\n",
      "test score: 0.9139072847682119\n"
     ]
    }
   ],
   "source": [
    "X_cntvec = scipy.sparse.hstack([cntvec.fit_transform(nocanceled, successful),\n",
    "                               scipy.sparse.csr_matrix(X_log.values)])\n",
    "\n",
    "X_train, X_test, y_train, y_test = train_test_split(X_cntvec, y, stratify=y, random_state=515)\n",
    "model = LogisticRegression().fit(X_train, y_train)\n",
    "print(\"train score:\", model.score(X_train, y_train))\n",
    "print(\"test score:\", model.score(X_test, y_test))"
   ]
  },
  {
   "cell_type": "markdown",
   "metadata": {},
   "source": [
    "Bummer. Нека да добавим и няколко text feature-и."
   ]
  },
  {
   "cell_type": "code",
   "execution_count": 77,
   "metadata": {},
   "outputs": [
    {
     "data": {
      "application/vnd.jupyter.widget-view+json": {
       "model_id": "d86a5706d92a474aa734cd3e7bc6c1f5",
       "version_major": 2,
       "version_minor": 0
      },
      "text/plain": [
       "interactive(children=(Dropdown(description='feature', options=('words', 'word_length', 'symbols', 'punctuation…"
      ]
     },
     "metadata": {},
     "output_type": "display_data"
    }
   ],
   "source": [
    "import string\n",
    "\n",
    "words = df.name.apply(lambda s: len(str(s).split()))\n",
    "word_length = df.name.apply(lambda s: np.mean([len(w) for w in str(s).split()]))\n",
    "symbols = df.name.str.len()\n",
    "punctuation = df.name.apply(lambda s: sum([c in string.punctuation for c in str(s)]) )\n",
    "\n",
    "X_cntvec = scipy.sparse.hstack ([X_cntvec,\n",
    "                                 scipy.sparse.csr_matrix([words,\n",
    "                                                          word_length,\n",
    "                                                          symbols,\n",
    "                                                          punctuation]).transpose()])\n",
    "\n",
    "textFeatureMap = {\"words\": words, \"word_length\": word_length,\n",
    "                  \"symbols\": symbols, \"punctuation\": punctuation}\n",
    "\n",
    "def plotTextFeature (feature):\n",
    "    plt.figure()\n",
    "    sns.violinplot(x=successful, y=textFeatureMap[feature])\n",
    "    plt.title(feature);\n",
    "\n",
    "interact (plotTextFeature, feature=['words', 'word_length', 'symbols', 'punctuation']);"
   ]
  },
  {
   "cell_type": "code",
   "execution_count": 78,
   "metadata": {},
   "outputs": [
    {
     "name": "stdout",
     "output_type": "stream",
     "text": [
      "train score: 0.9817034700315458\n",
      "test score: 0.9139072847682119\n"
     ]
    }
   ],
   "source": [
    "X_train, X_test, y_train, y_test = train_test_split(X_cntvec, y, stratify=y, random_state=515)\n",
    "model = LogisticRegression().fit(X_train, y_train)\n",
    "\n",
    "print(\"train score:\", model.score(X_train, y_train))\n",
    "print(\"test score:\", model.score(X_test, y_test))"
   ]
  },
  {
   "cell_type": "markdown",
   "metadata": {},
   "source": [
    "Няма подобрение, както и графиките показаха. Прочем нарочно използваме логистична регресия, защото random forest много\n",
    "underfit-ва.\n",
    "\n",
    "И последно tfidf. Няма да включваме новите feature-и. Труд на вятъра."
   ]
  },
  {
   "cell_type": "code",
   "execution_count": 79,
   "metadata": {},
   "outputs": [
    {
     "name": "stdout",
     "output_type": "stream",
     "text": [
      "train score: 0.9479495268138801\n",
      "test score: 0.9205298013245033\n"
     ]
    }
   ],
   "source": [
    "from sklearn.feature_extraction.text import TfidfVectorizer\n",
    "\n",
    "\n",
    "tfidf = TfidfVectorizer()\n",
    "X_tfidf = scipy.sparse.hstack([tfidf.fit_transform(nocanceled),\n",
    "                               scipy.sparse.csr_matrix(X_log.values)])\n",
    "\n",
    "X_train, X_test, y_train, y_test = train_test_split(X_tfidf, y, stratify=y, random_state=515)\n",
    "model = LogisticRegression().fit(X_train, y_train)\n",
    "print(\"train score:\", model.score(X_train, y_train))\n",
    "print(\"test score:\", model.score(X_test, y_test))"
   ]
  },
  {
   "cell_type": "markdown",
   "metadata": {},
   "source": [
    "Пак нямаше успех.\n",
    "\n",
    "\n",
    "## Заключение\n",
    "\n",
    "Можем много лесно да направим добър модел (0.91 accuray), но много трудно може да го подобрим. Random forest и логистична\n",
    "регресия (с малки разлики при моделиране) се справят аналогично без текстови feature-и. С CountVectorization има малко подобрение при логистичната регресия, което се дължи на факта, че в името на проекта може да има canceled. Random forest модела знае, когато не знае. Тоест, вероятността да познае грешно намаля постепенно с увеличение на model.proba стойността. При всички случай не успяхме да получим повече от 0.93 accuracy.\n",
    "\n",
    "При ръчен преглед на проектите, който класифицираме грешно, няма някакъв pattern защо грешим -- някой проекти звучат абсурдно да са\n",
    "събрали пари, други пък съвсем резонно и модела ни прави логично решение, но все пак греши."
   ]
  }
 ],
 "metadata": {
  "kernelspec": {
   "display_name": "Python 3",
   "language": "python",
   "name": "python3"
  },
  "language_info": {
   "codemirror_mode": {
    "name": "ipython",
    "version": 3
   },
   "file_extension": ".py",
   "mimetype": "text/x-python",
   "name": "python",
   "nbconvert_exporter": "python",
   "pygments_lexer": "ipython3",
   "version": "3.7.2"
  }
 },
 "nbformat": 4,
 "nbformat_minor": 2
}
